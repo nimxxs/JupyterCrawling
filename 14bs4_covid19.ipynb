{
 "cells": [
  {
   "cell_type": "markdown",
   "id": "3261c950-3c82-41b2-bf03-3918e3535d40",
   "metadata": {},
   "source": [
    "# 코로나 19 시도별 발생현황\n",
    "* 지역별 코로나 확진자 수 조회\n",
    "* 지역을 입력하면 코로나 확진자 수 정보 출력"
   ]
  },
  {
   "cell_type": "code",
   "execution_count": null,
   "id": "f5569ec2-b6ef-456a-a13e-9926587f14cb",
   "metadata": {},
   "outputs": [],
   "source": [
    "# kosis.kr/covid"
   ]
  },
  {
   "cell_type": "code",
   "execution_count": 1,
   "id": "cf5ea2c8-de0a-4ce0-8cac-cb9b53b3323f",
   "metadata": {},
   "outputs": [],
   "source": [
    "import requests\n",
    "from bs4 import BeautifulSoup\n",
    "from datetime import datetime"
   ]
  },
  {
   "cell_type": "code",
   "execution_count": null,
   "id": "0ac2a66b-e1e0-4be8-b60c-f9ee0ef7a269",
   "metadata": {},
   "outputs": [],
   "source": [
    "?serviceKey=\n",
    "&pageNo=1\n",
    "&numOfRows=500\n",
    "&apiType=JSON\n",
    "&std_day=2023-08-14"
   ]
  },
  {
   "cell_type": "code",
   "execution_count": 10,
   "id": "60e71154-d5bc-4a13-ad34-dfb68d3b582c",
   "metadata": {},
   "outputs": [],
   "source": [
    "url = 'http://apis.data.go.kr/1352000/ODMS_COVID_04/callCovid04Api'\n",
    "mykey = 'Q+A9lt2SWIlguD8YuBbVo18SbQrRNlJ5SZvJBArdhwt1hLynUfxH/b8KvfxZInuR826D+KK/VzbtoYFTnE7GVQ=='"
   ]
  },
  {
   "cell_type": "code",
   "execution_count": 13,
   "id": "fd6fca95-57cb-4fa6-9c3a-183401282313",
   "metadata": {},
   "outputs": [],
   "source": [
    "headers = {'User-Agent':'Mozilla/5.0 (Windows NT 10.0; Win64; x64) AppleWebKit/537.36 (KHTML, like Gecko) Chrome/115.0.0.0 Safari/537.36'}\n",
    "params = {'serviceKey':mykey, 'apiType':'JSON', 'numOfRows':1000, 'std_day':'2023-08-14', 'pageNo':1}"
   ]
  },
  {
   "cell_type": "code",
   "execution_count": 14,
   "id": "5593cc6e-1818-411e-a8d1-2350e9ed283a",
   "metadata": {},
   "outputs": [],
   "source": [
    "res = requests.get(url, headers=headers, params=params)\n",
    "html = BeautifulSoup(res.text)"
   ]
  },
  {
   "cell_type": "code",
   "execution_count": null,
   "id": "6386fbb9-a400-4eac-918c-0684c5821032",
   "metadata": {},
   "outputs": [],
   "source": [
    "html.prettify()"
   ]
  },
  {
   "cell_type": "code",
   "execution_count": null,
   "id": "1d1fe155-a2e1-4258-9f85-8ec9711d8319",
   "metadata": {},
   "outputs": [],
   "source": [
    "html.find('body').text"
   ]
  },
  {
   "cell_type": "code",
   "execution_count": 17,
   "id": "77c00832-eebe-408a-bbfd-f4baa9fa62d3",
   "metadata": {},
   "outputs": [],
   "source": [
    "import json\n",
    "\n",
    "covid = json.loads(html.find('body').text)"
   ]
  },
  {
   "cell_type": "code",
   "execution_count": 22,
   "id": "c9e535e0-0549-4c7b-9231-6d6759b98ec1",
   "metadata": {
    "scrolled": true
   },
   "outputs": [
    {
     "name": "stdout",
     "output_type": "stream",
     "text": [
      "광주 997048 557 854\n",
      "강원 984563 647 1383\n",
      "세종 267598 105 58\n",
      "합계 33897537 17234 35557\n",
      "부산 2057982 677 2922\n",
      "울산 725011 268 543\n",
      "충북 1053112 778 1084\n",
      "대전 991775 395 986\n",
      "인천 1949102 946 1958\n",
      "서울 6626833 2730 6626\n",
      "전남 1119871 660 1065\n",
      "경북 1548373 908 2159\n",
      "경기 9088327 4510 8572\n",
      "제주 445158 371 313\n",
      "충남 1360980 767 1631\n",
      "대구 1484175 1193 2055\n",
      "전북 1139367 782 1263\n",
      "경남 2039397 936 2069\n",
      "검역 18865 4 16\n"
     ]
    }
   ],
   "source": [
    "for data in covid.get('items'):\n",
    "    print(data.get('gubun'), data['defCnt'], data['incDec'], data['deathCnt'])"
   ]
  },
  {
   "cell_type": "markdown",
   "id": "b0d35e9a-18c6-4598-b2fa-2053d858858b",
   "metadata": {},
   "source": [
    "### 지역 입력받아 코로나 확진자 정보 출력"
   ]
  },
  {
   "cell_type": "code",
   "execution_count": 35,
   "id": "5e59e1ca-2457-4306-8ae2-735fefdebf3b",
   "metadata": {},
   "outputs": [
    {
     "name": "stdin",
     "output_type": "stream",
     "text": [
      "지역은?  부산\n"
     ]
    }
   ],
   "source": [
    "region = input('지역은? ')"
   ]
  },
  {
   "cell_type": "code",
   "execution_count": 41,
   "id": "357ed9f3-0337-4e10-8697-62dbae1294ac",
   "metadata": {},
   "outputs": [
    {
     "name": "stdout",
     "output_type": "stream",
     "text": [
      "부산 2057982 677 2922\n"
     ]
    }
   ],
   "source": [
    "for data in covid.get('items'):\n",
    "    if region == data['gubun']:\n",
    "        print(data['gubun'], data['defCnt'], data['incDec'], data['deathCnt'])"
   ]
  },
  {
   "cell_type": "code",
   "execution_count": null,
   "id": "4d955391-96c8-4076-aa26-931229daff86",
   "metadata": {},
   "outputs": [],
   "source": []
  }
 ],
 "metadata": {
  "kernelspec": {
   "display_name": "Python 3 (ipykernel)",
   "language": "python",
   "name": "python3"
  },
  "language_info": {
   "codemirror_mode": {
    "name": "ipython",
    "version": 3
   },
   "file_extension": ".py",
   "mimetype": "text/x-python",
   "name": "python",
   "nbconvert_exporter": "python",
   "pygments_lexer": "ipython3",
   "version": "3.11.4"
  }
 },
 "nbformat": 4,
 "nbformat_minor": 5
}
