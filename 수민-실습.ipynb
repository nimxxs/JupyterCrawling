{
 "cells": [
  {
   "cell_type": "markdown",
   "id": "244fdb13-5908-4c5d-b0de-e4d0fce06758",
   "metadata": {},
   "source": [
    "## 다음 영화"
   ]
  },
  {
   "cell_type": "code",
   "execution_count": 1,
   "id": "cf503837-634a-4f8a-88d2-66c604c5a02c",
   "metadata": {},
   "outputs": [],
   "source": [
    "import requests\n",
    "from lxml import html"
   ]
  },
  {
   "cell_type": "code",
   "execution_count": 2,
   "id": "947c3e03-d5f7-4ace-99dc-87fa96deb510",
   "metadata": {},
   "outputs": [],
   "source": [
    "url = 'https://movie.daum.net/main'\n",
    "headers = {'User-Agent':'Mozilla/5.0 (Windows NT 10.0; Win64; x64) AppleWebKit/537.36 (KHTML, like Gecko) Chrome/115.0.0.0 Safari/537.36'}"
   ]
  },
  {
   "cell_type": "code",
   "execution_count": 11,
   "id": "161278b5-6931-40c1-b257-812c2fddb7ea",
   "metadata": {},
   "outputs": [],
   "source": [
    "res = requests.get(url, headers=headers)\n",
    "text = html.fromstring(res.text)"
   ]
  },
  {
   "cell_type": "markdown",
   "id": "71de9387-a4fa-4a0d-9e66-bebb256ff921",
   "metadata": {},
   "source": [
    "### 추출한 요소들을 리스트에 저장 "
   ]
  },
  {
   "cell_type": "code",
   "execution_count": 28,
   "id": "3e3f6d9a-6b23-4d0b-a3f7-4cc4f652328b",
   "metadata": {},
   "outputs": [],
   "source": [
    "titles, txts, icos = [], [], []\n",
    "\n",
    "# 제목 추출  \n",
    "for title in text.cssselect('div.thumb_cont a'):\n",
    "    # print(title.text_content())\n",
    "    titles.append(title.text_content())\n",
    "# 평점 추출  \n",
    "for txt in text.cssselect('span.txt_append span.txt_num'):\n",
    "    txts.append(txt.text_content())\n",
    "# 예매율 추출  \n",
    "for ico in text.cssselect('span.ico_movie span.txt_num'):\n",
    "    icos.append(ico.text_content())"
   ]
  },
  {
   "cell_type": "code",
   "execution_count": 29,
   "id": "3fcb2050-58a1-40a5-9353-806248d03504",
   "metadata": {},
   "outputs": [
    {
     "name": "stdout",
     "output_type": "stream",
     "text": [
      "0 0 0\n"
     ]
    }
   ],
   "source": [
    "print(len(titles),len(txts),len(icos))"
   ]
  },
  {
   "cell_type": "markdown",
   "id": "bc5129de-5e93-467e-9410-3278ed5b1019",
   "metadata": {},
   "source": [
    "### 리스트에 저장한 내용을 파일에 저장"
   ]
  },
  {
   "cell_type": "code",
   "execution_count": 30,
   "id": "a610d8af-6fb4-4862-b6ba-5c4bbde8e3a1",
   "metadata": {},
   "outputs": [],
   "source": [
    "import json\n",
    "from collections import OrderedDict"
   ]
  },
  {
   "cell_type": "code",
   "execution_count": 31,
   "id": "57d68486-1d4f-4fac-9783-471f633fa42c",
   "metadata": {},
   "outputs": [],
   "source": [
    "moviedaum = OrderedDict()\n",
    "items = OrderedDict()\n",
    "body = OrderedDict()\n",
    "daums = []\n",
    "\n",
    "for i in range(len(titles)):\n",
    "    item = OrderedDict()\n",
    "    item['title'] = titles[i]\n",
    "    item['txt'] = txts[i]\n",
    "    item['ico'] = icos[i]\n",
    "    news.append(item)\n",
    "\n",
    "items['items'] = daums\n",
    "body['body'] = items\n",
    "moviedaum['response'] = body"
   ]
  },
  {
   "cell_type": "code",
   "execution_count": 32,
   "id": "e0d59d5b-2a05-46ed-9901-1a981a877abe",
   "metadata": {},
   "outputs": [],
   "source": [
    "with open('./data/moviedaum.json', 'w', encoding='utf-8') as f:\n",
    "       json.dump(moviedaum, f, ensure_ascii=False)"
   ]
  }
 ],
 "metadata": {
  "kernelspec": {
   "display_name": "Python 3 (ipykernel)",
   "language": "python",
   "name": "python3"
  },
  "language_info": {
   "codemirror_mode": {
    "name": "ipython",
    "version": 3
   },
   "file_extension": ".py",
   "mimetype": "text/x-python",
   "name": "python",
   "nbconvert_exporter": "python",
   "pygments_lexer": "ipython3",
   "version": "3.11.4"
  }
 },
 "nbformat": 4,
 "nbformat_minor": 5
}
