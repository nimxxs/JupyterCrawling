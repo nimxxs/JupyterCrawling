{
 "cells": [
  {
   "cell_type": "markdown",
   "id": "6e1e9e16-8b32-4403-9e81-6c854140f4f3",
   "metadata": {},
   "source": [
    "## user agent 설정하기\r\n",
    "* 특정 사이트는 스크래핑이나 크롤링을 막기 위한 방편으로\r\n",
    "* 사이트에 접속하는 사용자의 user agent를 확인함\r\n",
    "* UA없이 사이트 접속을 시도하면 접속권한의 의미로 403 응답코드와 함께 접속을 금지하기도 함"
   ]
  },
  {
   "cell_type": "code",
   "execution_count": 2,
   "id": "e4da6d47-ebfc-4e2f-a6eb-44cc313d6d35",
   "metadata": {},
   "outputs": [],
   "source": [
    "import requests\n",
    "from lxml import html"
   ]
  },
  {
   "cell_type": "markdown",
   "id": "327c903a-cfc5-40d7-9bc3-78df95e76570",
   "metadata": {},
   "source": [
    "### JTBC 뉴스 속보 사이트에서 기사 크롤링하기\n",
    "* 제목, 기사미리보기, 카테고리, 기자명, 송고날짜"
   ]
  },
  {
   "cell_type": "code",
   "execution_count": 3,
   "id": "67c63ed6-b6a1-40be-93a7-51bfbe37edb4",
   "metadata": {},
   "outputs": [],
   "source": [
    "url = 'https://news.jtbc.co.kr/section/list.aspx?scode='\n",
    "headers = {'User-Agent':'Mozilla/5.0 (Windows NT 10.0; Win64; x64) AppleWebKit/537.36 (KHTML, like Gecko) Chrome/115.0.0.0 Safari/537.36'}"
   ]
  },
  {
   "cell_type": "markdown",
   "id": "b836a337-8168-49ab-95ca-af55ea66409d",
   "metadata": {},
   "source": [
    "### 크롤링 시작"
   ]
  },
  {
   "cell_type": "code",
   "execution_count": 34,
   "id": "af211ed1-9b35-40e4-9d81-7f5c6eb77bd7",
   "metadata": {},
   "outputs": [],
   "source": [
    "res = requests.get(url, headers=headers)\n",
    "text = html.fromstring(res.text)"
   ]
  },
  {
   "cell_type": "markdown",
   "id": "74f06a4e-1e07-4f18-8969-afb0dbb81916",
   "metadata": {},
   "source": [
    "### 추출한 요소들을 리스트에 저장 "
   ]
  },
  {
   "cell_type": "code",
   "execution_count": 35,
   "id": "517ed001-30e7-4b57-9b4d-0a096f8277e8",
   "metadata": {},
   "outputs": [],
   "source": [
    "titles, previews, categorys, reporters, pdates = [], [], [], [], []\n",
    "\n",
    "# 제목 추출  \n",
    "for title in doctree.cssselect('dt.title_cr a'):\n",
    "    # print(title.text_content())\n",
    "    titles.append(title.text_content())\n",
    "# 미리보기 추출  \n",
    "for preview in doctree.cssselect('dd.read_cr a'):\n",
    "    previews.append(preview.text_content())"
   ]
  },
  {
   "cell_type": "code",
   "execution_count": 36,
   "id": "0de0696a-e1ab-4b0d-8272-27f74739a85b",
   "metadata": {},
   "outputs": [],
   "source": [
    "# 카테고리 추출  \n",
    "for category in doctree.cssselect('span.location'):\n",
    "    cate = category.text_content().strip()\n",
    "    cate = cate.replace('\\r','').replace('\\n','')\n",
    "    cate = cate.replace('\\t','').replace(' ','')\n",
    "    cate = cate.replace('[JTBC>','').replace(']','')\n",
    "    categorys.append(cate)"
   ]
  },
  {
   "cell_type": "code",
   "execution_count": 37,
   "id": "a1eca8a5-e908-4b67-aaf9-2e340785914c",
   "metadata": {},
   "outputs": [],
   "source": [
    "# 기자명 추출  \n",
    "for reporter in text.cssselect('span.writer'):\n",
    "    # print(reporter.text_content().strip())\n",
    "    reporters.append(reporter.text_content().strip())"
   ]
  },
  {
   "cell_type": "code",
   "execution_count": 55,
   "id": "cbeaac0b-2814-4746-be8e-9fd2a023ddfd",
   "metadata": {},
   "outputs": [],
   "source": [
    "# 송고날짜 추출  \n",
    "for pdate in text.cssselect('span.date'):\n",
    "    # print(pdate.text_content())\n",
    "    pdates.append(pdate.text_content().strip())"
   ]
  },
  {
   "cell_type": "code",
   "execution_count": 39,
   "id": "7d8370cc-6188-4ebd-8eac-011191a9fef9",
   "metadata": {},
   "outputs": [
    {
     "name": "stdout",
     "output_type": "stream",
     "text": [
      "15 15 15 15 15\n"
     ]
    }
   ],
   "source": [
    "print(len(titles),len(previews),len(categorys),len(reporters),len(pdates))"
   ]
  },
  {
   "cell_type": "markdown",
   "id": "494d81e0-9df9-48b3-9ecd-a854e0c88d27",
   "metadata": {},
   "source": [
    "### 리스트에 저장한 내용을 파일에 저장"
   ]
  },
  {
   "cell_type": "code",
   "execution_count": 56,
   "id": "705fa13f-56e1-43e3-bb75-c034c46f0585",
   "metadata": {},
   "outputs": [],
   "source": [
    "import json\n",
    "from collections import OrderedDict"
   ]
  },
  {
   "cell_type": "code",
   "execution_count": 57,
   "id": "2314a8b9-9a40-49af-8c43-d82faf3d476c",
   "metadata": {},
   "outputs": [],
   "source": [
    "jtbcnews = OrderedDict()\n",
    "items = OrderedDict()\n",
    "body = OrderedDict()\n",
    "news = []\n",
    "\n",
    "for i in range(len(titles)):\n",
    "    item = OrderedDict()\n",
    "    item['title'] = titles[i]\n",
    "    item['preview'] = previews[i]\n",
    "    item['category'] = categorys[i]\n",
    "    item['reporter'] = reporters[i]\n",
    "    item['pdate'] = pdates[i]\n",
    "    news.append(item)\n",
    "\n",
    "items['items'] = news\n",
    "body['body'] = items\n",
    "jtbcnews['response'] = body"
   ]
  },
  {
   "cell_type": "code",
   "execution_count": 58,
   "id": "8411b0ff-6387-4a55-bfaf-5b72c7fb7de9",
   "metadata": {},
   "outputs": [],
   "source": [
    "with open('./data/jtbcnews.json', 'w', encoding='utf-8') as f:\n",
    "       json.dump(jtbcnews, f, ensure_ascii=False)"
   ]
  },
  {
   "cell_type": "markdown",
   "id": "635ad3f3-aea9-4e27-af9d-cf1f2f18ff81",
   "metadata": {},
   "source": [
    "### 리스트에 저장한 내용을 디비에 저장"
   ]
  },
  {
   "cell_type": "code",
   "execution_count": null,
   "id": "2e6f6920-dd2c-4cd3-aa2c-22dd918e7f85",
   "metadata": {},
   "outputs": [],
   "source": [
    "# jtbcnews 테이블 구조 : 제목, 기사미리보기, 카테고리, 기자명, 송고날짜\n",
    "# create table jtbcnews (\n",
    "#     jtbcno     int            auto_increment,\n",
    "#     title      varchar(100)   not null,\n",
    "#     preview    varchar(350)   not null,\n",
    "#     category   varchar(50)    not null,\n",
    "#     reporter    varchar(50)    not null,\n",
    "#     pdate      char(25)       not null,\n",
    "#     primary key (jtbcno)\n",
    "# );"
   ]
  },
  {
   "cell_type": "code",
   "execution_count": 59,
   "id": "39395024-29ec-4f00-aab0-e083c11120b0",
   "metadata": {},
   "outputs": [],
   "source": [
    "import mariadb"
   ]
  },
  {
   "cell_type": "code",
   "execution_count": 60,
   "id": "9583ce3e-3001-44e1-bca4-7622951e0aee",
   "metadata": {},
   "outputs": [],
   "source": [
    "# mariadb 접속 정보\n",
    "url = 'bigdata.cto1qluvf6xh.ap-northeast-2.rds.amazonaws.com'\n",
    "uid = 'admin'\n",
    "pwd = 'Bigdata_2023'\n",
    "db = 'bigdata'"
   ]
  },
  {
   "cell_type": "code",
   "execution_count": 62,
   "id": "8fa2d5f1-e275-4a72-b09f-782c98ea7d45",
   "metadata": {},
   "outputs": [
    {
     "name": "stdout",
     "output_type": "stream",
     "text": [
      "1번째 데이터 입력됨!\n",
      "2번째 데이터 입력됨!\n",
      "3번째 데이터 입력됨!\n",
      "4번째 데이터 입력됨!\n",
      "5번째 데이터 입력됨!\n",
      "6번째 데이터 입력됨!\n",
      "7번째 데이터 입력됨!\n",
      "8번째 데이터 입력됨!\n",
      "9번째 데이터 입력됨!\n",
      "10번째 데이터 입력됨!\n",
      "11번째 데이터 입력됨!\n",
      "12번째 데이터 입력됨!\n",
      "13번째 데이터 입력됨!\n",
      "14번째 데이터 입력됨!\n",
      "15번째 데이터 입력됨!\n"
     ]
    }
   ],
   "source": [
    "sql = 'insert into jtbcnews (title, preview, category, reporter, pdate) values (?,?,?,?,?)'\n",
    "conn = None\n",
    "cur = None\n",
    "\n",
    "try:\n",
    "    conn = mariadb.connect(host=url, user=uid, password=pwd, database=db)\n",
    "    cur = conn.cursor()\n",
    "\n",
    "    for i in range(len(titles)):\n",
    "        params = (titles[i], previews[i], categorys[i], reporters[i], pdates[i])\n",
    "        cur.execute(sql, params)\n",
    "        conn.commit()\n",
    "        print(f'{i+1}번째 데이터 입력됨!')\n",
    "\n",
    "except mariadb.Error as e:\n",
    "    print('오류발생!!', e)\n",
    "finally:\n",
    "    cur.close()\n",
    "    conn.close()"
   ]
  }
 ],
 "metadata": {
  "kernelspec": {
   "display_name": "Python 3 (ipykernel)",
   "language": "python",
   "name": "python3"
  },
  "language_info": {
   "codemirror_mode": {
    "name": "ipython",
    "version": 3
   },
   "file_extension": ".py",
   "mimetype": "text/x-python",
   "name": "python",
   "nbconvert_exporter": "python",
   "pygments_lexer": "ipython3",
   "version": "3.11.4"
  }
 },
 "nbformat": 4,
 "nbformat_minor": 5
}
