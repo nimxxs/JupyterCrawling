{
 "cells": [
  {
   "cell_type": "markdown",
   "id": "69b839b5-21d1-4427-8957-e6a49e9e71aa",
   "metadata": {},
   "source": [
    "# 2023 정당지지도 여론조사 크롤링\n",
    "* poll-mbc.co.kr\n",
    "* 조사기관, 조사기간, 정당지지도"
   ]
  },
  {
   "cell_type": "code",
   "execution_count": 3,
   "id": "4d8caabb-8023-44ab-9d06-94b1ec63e1e8",
   "metadata": {},
   "outputs": [],
   "source": [
    "import requests\n",
    "from bs4 import BeautifulSoup"
   ]
  },
  {
   "cell_type": "code",
   "execution_count": 4,
   "id": "1285120b-1a00-43c9-aab7-a85efcb2e208",
   "metadata": {},
   "outputs": [],
   "source": [
    "url = 'http://poll-mbc.co.kr/'\n",
    "headers = {'User-Agent':'Mozilla/5.0 (Windows NT 10.0; Win64; x64) AppleWebKit/537.36 (KHTML, like Gecko) Chrome/115.0.0.0 Safari/537.36'}\n",
    "res = requests.get(url)"
   ]
  },
  {
   "cell_type": "code",
   "execution_count": 5,
   "id": "7549cd6a-775f-4d7a-85ae-7507f112e1a9",
   "metadata": {},
   "outputs": [],
   "source": [
    "tables, dates, partys = [],[],[]"
   ]
  },
  {
   "cell_type": "code",
   "execution_count": null,
   "id": "895260ee-e62a-4f11-9bd8-f9e11534b1dc",
   "metadata": {},
   "outputs": [],
   "source": [
    "for table in html.select(''):\n",
    "    tables.append(table.text)"
   ]
  }
 ],
 "metadata": {
  "kernelspec": {
   "display_name": "Python 3 (ipykernel)",
   "language": "python",
   "name": "python3"
  },
  "language_info": {
   "codemirror_mode": {
    "name": "ipython",
    "version": 3
   },
   "file_extension": ".py",
   "mimetype": "text/x-python",
   "name": "python",
   "nbconvert_exporter": "python",
   "pygments_lexer": "ipython3",
   "version": "3.11.4"
  }
 },
 "nbformat": 4,
 "nbformat_minor": 5
}
