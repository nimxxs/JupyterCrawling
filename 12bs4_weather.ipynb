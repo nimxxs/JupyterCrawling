{
 "cells": [
  {
   "cell_type": "markdown",
   "id": "92a08a24-48e6-42e9-a451-4794bad06ae8",
   "metadata": {},
   "source": [
    "# 기상청에서 날씨 정보 알아내기"
   ]
  },
  {
   "cell_type": "markdown",
   "id": "b877f714-cc80-40c2-ba60-294e121088a7",
   "metadata": {},
   "source": [
    "### RSS 서비스 이용하기\n",
    "* RSS(Really Simple Syndication, Rich Site Summary)란\n",
    "* 블로그처럼 컨텐츠 업데이트가 자주 일어나는 웹사이트에서 업데이트된 정보를 쉽게 구독자들에게 제공하기 위해 XML을 기초로 만들어진 데이터 형식입니다.\n",
    "* RSS서비스를 이용하면 업데이트된 정보를 찾기 위해 홈페이지에 일일이 방문하지 않아도 업데이트될 때마다 빠르고 편리하게 확인할 수 있습니다."
   ]
  },
  {
   "cell_type": "markdown",
   "id": "4b5a21d7-d88f-4c17-9d38-bc04178826ef",
   "metadata": {},
   "source": [
    "### 기상청\n",
    "* www.weather.go.kr"
   ]
  },
  {
   "cell_type": "code",
   "execution_count": 1,
   "id": "6222f298-5642-4ee4-847e-308d54713559",
   "metadata": {},
   "outputs": [],
   "source": [
    "import requests\n",
    "from bs4 import BeautifulSoup"
   ]
  },
  {
   "cell_type": "code",
   "execution_count": 2,
   "id": "82ba96b7-c1f1-4f01-8cc7-5f82bbde38a0",
   "metadata": {},
   "outputs": [],
   "source": [
    "# 우리동네 날씨 3시간별 날씨\n",
    "url = 'https://www.kma.go.kr/wid/queryDFSRSS.jsp?zone=2629061000'"
   ]
  },
  {
   "cell_type": "code",
   "execution_count": 3,
   "id": "838b82c0-a566-4951-a32b-06146fe5cf0b",
   "metadata": {},
   "outputs": [],
   "source": [
    "headers = {'User-Agent':'Mozilla/5.0 (Windows NT 10.0; Win64; x64) AppleWebKit/537.36 (KHTML, like Gecko) Chrome/115.0.0.0 Safari/537.36'}"
   ]
  },
  {
   "cell_type": "code",
   "execution_count": 5,
   "id": "c6816e26-8530-46f0-bdb5-dd8534f3de6f",
   "metadata": {},
   "outputs": [],
   "source": [
    "res = requests.get(url, headers=headers)\n",
    "html = BeautifulSoup(res.text, 'lxml')"
   ]
  },
  {
   "cell_type": "code",
   "execution_count": 11,
   "id": "b2184e91-40fb-4b51-920c-47a3ba7b5ec8",
   "metadata": {},
   "outputs": [
    {
     "name": "stdout",
     "output_type": "stream",
     "text": [
      "2023년 08월 18일 (금)요일 11:00\n",
      "부산광역시 남구 용당동\n"
     ]
    }
   ],
   "source": [
    "# 시간, 지역명 출력\n",
    "print(html.find('pubdate').text)\n",
    "print(html.find('category').text)"
   ]
  },
  {
   "cell_type": "code",
   "execution_count": 18,
   "id": "579beaf9-9838-4473-bb27-7e4fe0433b50",
   "metadata": {},
   "outputs": [
    {
     "name": "stdout",
     "output_type": "stream",
     "text": [
      "15 28.0 비 60\n"
     ]
    }
   ],
   "source": [
    "# 시간별 날씨정보 출력\n",
    "for data in html.findAll('data'):\n",
    "    print(data.hour.text, data.temp.text, data.wfkor.text, data.pop.text)\n",
    "    break"
   ]
  },
  {
   "cell_type": "markdown",
   "id": "48dab9b9-0750-462a-bd1a-7860453458e2",
   "metadata": {},
   "source": [
    "### 지역별 날씨 조회\n",
    "* 지역 입력시 해당 지역 날씨 출력"
   ]
  },
  {
   "cell_type": "code",
   "execution_count": 25,
   "id": "e6d9efe3-bee9-4c34-a6bd-06a82c21ec43",
   "metadata": {},
   "outputs": [],
   "source": [
    "url = 'https://www.kma.go.kr/weather/forecast/mid-term-rss3.jsp?stnId=108'"
   ]
  },
  {
   "cell_type": "code",
   "execution_count": 44,
   "id": "3a9e25dd-1522-4051-a07e-f970eb097258",
   "metadata": {},
   "outputs": [
    {
     "name": "stdin",
     "output_type": "stream",
     "text": [
      "지역은?  서울\n"
     ]
    }
   ],
   "source": [
    "region = input('지역은? ')"
   ]
  },
  {
   "cell_type": "code",
   "execution_count": 45,
   "id": "363a340b-fa6e-4306-ba32-7d53ae62152c",
   "metadata": {},
   "outputs": [],
   "source": [
    "res = requests.get(url, headers=headers)\n",
    "html = BeautifulSoup(res.text, 'lxml')"
   ]
  },
  {
   "cell_type": "code",
   "execution_count": 49,
   "id": "95dfdcb6-3add-47ce-bdc8-72667431f216",
   "metadata": {},
   "outputs": [
    {
     "name": "stdout",
     "output_type": "stream",
     "text": [
      "서울 2023-08-21 구름많음 31 31 30\n"
     ]
    }
   ],
   "source": [
    "for loc in html.findAll('location'):\n",
    "    if loc.city.text == region:\n",
    "        print(loc.city.text, loc.data.tmef.text[:10],\n",
    "             loc.data.wf.text, loc.data.tmx.text, loc.data.tmx.text,\n",
    "             loc.data.rnst.text)"
   ]
  },
  {
   "cell_type": "code",
   "execution_count": 54,
   "id": "a007e393-78af-4a1f-b4fb-e90e65ec8060",
   "metadata": {
    "collapsed": true,
    "jupyter": {
     "outputs_hidden": true
    }
   },
   "outputs": [
    {
     "name": "stdout",
     "output_type": "stream",
     "text": [
      "서울 2023-08-21 00:00 구름많음 31 31 30\n",
      "서울 2023-08-21 12:00 흐림 31 31 40\n",
      "서울 2023-08-22 00:00 흐리고 비 30 30 70\n",
      "서울 2023-08-22 12:00 흐리고 비 30 30 80\n",
      "서울 2023-08-23 00:00 흐리고 비 31 31 80\n",
      "서울 2023-08-23 12:00 흐리고 비 31 31 90\n",
      "서울 2023-08-24 00:00 흐림 31 31 40\n",
      "서울 2023-08-24 12:00 흐림 31 31 40\n",
      "서울 2023-08-25 00:00 흐림 32 32 40\n",
      "서울 2023-08-25 12:00 흐림 32 32 40\n",
      "서울 2023-08-26 00:00 흐림 32 32 40\n",
      "서울 2023-08-27 00:00 흐림 31 31 40\n",
      "서울 2023-08-28 00:00 흐림 31 31 40\n"
     ]
    }
   ],
   "source": [
    "for loc in html.findAll('location'):\n",
    "    if loc.city.text == region:\n",
    "        for data in loc.findAll('data'):\n",
    "            print(loc.city.text, data.tmef.text,\n",
    "             data.wf.text, data.tmx.text, data.tmx.text, data.rnst.text)"
   ]
  },
  {
   "cell_type": "markdown",
   "id": "adc1d4ad-48b7-4804-8256-5c73d3900144",
   "metadata": {},
   "source": [
    "### 서버에 요청한 데이터를 파일에 저장"
   ]
  },
  {
   "cell_type": "code",
   "execution_count": 58,
   "id": "0a8de08f-71e3-4b45-a8ba-b7341e42e2b3",
   "metadata": {},
   "outputs": [],
   "source": [
    "with open('./data/weather.xml', 'w', encoding='utf-8') as f:\n",
    "    f.write(res.text)"
   ]
  },
  {
   "cell_type": "markdown",
   "id": "e8ad46ea-063a-4b8c-a8f4-e20eaa18567d",
   "metadata": {},
   "source": [
    "### 날씨 데이터 파일을 읽어 검색하기"
   ]
  },
  {
   "cell_type": "code",
   "execution_count": 59,
   "id": "8f8a6564-1e29-4e9d-9ccb-4342c825d468",
   "metadata": {},
   "outputs": [],
   "source": [
    "with open('./data/weather.xml', 'r', encoding='utf-8') as f:\n",
    "    weather = f.read()"
   ]
  },
  {
   "cell_type": "code",
   "execution_count": 60,
   "id": "110b9e35-ac00-46b7-825f-c296bf2e3011",
   "metadata": {},
   "outputs": [],
   "source": [
    "html = BeautifulSoup(weather, 'lxml')"
   ]
  },
  {
   "cell_type": "code",
   "execution_count": 61,
   "id": "8e7cbecd-e7a9-4781-b496-163aa232561c",
   "metadata": {
    "collapsed": true,
    "jupyter": {
     "outputs_hidden": true
    }
   },
   "outputs": [
    {
     "name": "stdout",
     "output_type": "stream",
     "text": [
      "서울\n",
      "인천\n",
      "수원\n",
      "파주\n",
      "이천\n",
      "평택\n",
      "춘천\n",
      "원주\n",
      "강릉\n",
      "대전\n",
      "세종\n",
      "홍성\n",
      "청주\n",
      "충주\n",
      "영동\n",
      "광주\n",
      "목포\n",
      "여수\n",
      "순천\n",
      "광양\n",
      "나주\n",
      "전주\n",
      "군산\n",
      "정읍\n",
      "남원\n",
      "고창\n",
      "무주\n",
      "부산\n",
      "울산\n",
      "창원\n",
      "진주\n",
      "거창\n",
      "통영\n",
      "대구\n",
      "안동\n",
      "포항\n",
      "경주\n",
      "울진\n",
      "울릉도\n",
      "제주\n",
      "서귀포\n"
     ]
    }
   ],
   "source": [
    "for loc in html.findAll('location'):\n",
    "    print(loc.city.text)"
   ]
  },
  {
   "cell_type": "code",
   "execution_count": null,
   "id": "a4c22b42-2a67-4d3f-81d3-a0088e630735",
   "metadata": {},
   "outputs": [],
   "source": []
  }
 ],
 "metadata": {
  "kernelspec": {
   "display_name": "Python 3 (ipykernel)",
   "language": "python",
   "name": "python3"
  },
  "language_info": {
   "codemirror_mode": {
    "name": "ipython",
    "version": 3
   },
   "file_extension": ".py",
   "mimetype": "text/x-python",
   "name": "python",
   "nbconvert_exporter": "python",
   "pygments_lexer": "ipython3",
   "version": "3.11.4"
  }
 },
 "nbformat": 4,
 "nbformat_minor": 5
}
