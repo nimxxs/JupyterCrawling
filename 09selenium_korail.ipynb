{
 "cells": [
  {
   "cell_type": "markdown",
   "id": "881fabe2-e3fc-48b8-9cc4-c85cf42850a5",
   "metadata": {},
   "source": [
    "# 셀레니엄으로 열차예매하기"
   ]
  },
  {
   "cell_type": "code",
   "execution_count": 1,
   "id": "0be7f30a-f7f2-4f8b-8511-e5d75dc77c55",
   "metadata": {},
   "outputs": [],
   "source": [
    "import time\n",
    "\n",
    "from selenium import webdriver\n",
    "from selenium.webdriver.chrome.service import Service\n",
    "from selenium.webdriver.support.select import Select\n",
    "from webdriver_manager.chrome import ChromeDriverManager\n",
    "from selenium.webdriver.common.by import By\n",
    "from selenium.webdriver.common.keys import Keys"
   ]
  },
  {
   "cell_type": "code",
   "execution_count": 2,
   "id": "e7349e92-4577-4347-a930-b6b07a4e43f1",
   "metadata": {},
   "outputs": [],
   "source": [
    "url = 'https://www.letskorail.com/ebizprd/prdMain.do'\n",
    "uid = '1661699156'\n",
    "pwd = '@tnals0908'\n",
    "deptst = '서울'\n",
    "arrvst = '부산'\n",
    "dpyear = '2023'\n",
    "dpmonth = '9'\n",
    "dpday = '16'\n",
    "dphour = '10 (오전10)'"
   ]
  },
  {
   "cell_type": "code",
   "execution_count": 4,
   "id": "42bd252a-563b-4da4-bb22-3365112291dd",
   "metadata": {},
   "outputs": [],
   "source": [
    "options = webdriver.ChromeOptions()\n",
    "options.add_argument(\"--headless\")\n",
    "options.add_argument(\"--no-sandbox\")\n",
    "options.add_argument(\"--disable-dev-shm-usage\")"
   ]
  },
  {
   "cell_type": "code",
   "execution_count": 5,
   "id": "90c99f93-fd97-4234-ad70-dde667b5e24a",
   "metadata": {},
   "outputs": [],
   "source": [
    "services = Service(ChromeDriverManager().install())  \n",
    "chrome = webdriver.Chrome(service=services, options=options)"
   ]
  },
  {
   "cell_type": "code",
   "execution_count": 6,
   "id": "2b4dcfb9-312c-4963-ae5f-84c243f1021b",
   "metadata": {},
   "outputs": [],
   "source": [
    "# 코레일 메인 페이지 방문\n",
    "chrome.get(url)\n",
    "time.sleep(1)"
   ]
  },
  {
   "cell_type": "code",
   "execution_count": 7,
   "id": "a14e05c7-bb63-4ac9-b75d-c6009caf4edd",
   "metadata": {},
   "outputs": [
    {
     "name": "stdout",
     "output_type": "stream",
     "text": [
      "['3968A32AAA2F7817DA3D4425080A0D0F', '179DF3E968A71EA555160B0A4821C8B1']\n",
      "3968A32AAA2F7817DA3D4425080A0D0F\n",
      "179DF3E968A71EA555160B0A4821C8B1\n"
     ]
    }
   ],
   "source": [
    "# 팝업창 닫기\n",
    "# 다른 창으로 제어 넘기기 : switch_to.window(핸들러)\n",
    "print(chrome.window_handles)\n",
    "print(chrome.window_handles[0])  # 메인창\n",
    "print(chrome.window_handles[1])  # 팝업창"
   ]
  },
  {
   "cell_type": "code",
   "execution_count": 8,
   "id": "fbed80c3-d858-48da-babd-09ac4be60434",
   "metadata": {},
   "outputs": [],
   "source": [
    "chrome.switch_to.window(chrome.window_handles[1])  # 팝업창으로 제어 넘김\n",
    "chrome.close()\n",
    "\n",
    "chrome.switch_to.window(chrome.window_handles[0])  # 부모창으로 제어 넘김\n",
    "time.sleep(1)"
   ]
  },
  {
   "cell_type": "code",
   "execution_count": 9,
   "id": "20e0c7eb-75cb-463e-a667-364dd76d5383",
   "metadata": {},
   "outputs": [],
   "source": [
    "# 로그인 페이지로 이동\n",
    "chrome.find_element(By.CSS_SELECTOR, 'ul.gnb_list li:nth-child(2) a').click()\n",
    "time.sleep(1)"
   ]
  },
  {
   "cell_type": "code",
   "execution_count": 10,
   "id": "32c22e95-672f-41ae-a4d4-246ee978086b",
   "metadata": {},
   "outputs": [],
   "source": [
    "# 로그인 정보 입력\n",
    "chrome.find_element(By.ID, 'txtMember').send_keys(uid)\n",
    "time.sleep(1)\n",
    "\n",
    "# 비밀번호 정보 입력\n",
    "chrome.find_element(By.ID, 'txtPwd').send_keys(pwd)\n",
    "time.sleep(1)\n",
    "\n",
    "# 로그인 클릭\n",
    "chrome.find_element(By.CSS_SELECTOR, '.btn_login a').click()\n",
    "time.sleep(1)"
   ]
  },
  {
   "cell_type": "code",
   "execution_count": null,
   "id": "98814bc9-ef5f-4831-923f-3f15b14b421e",
   "metadata": {},
   "outputs": [],
   "source": [
    "# 메인 페이지 팝업창 닫기\n",
    "chrome.switch_to.window(chrome.window_handles[1])  # 팝업창으로 제어 넘김\n",
    "chrome.close()\n",
    "\n",
    "chrome.switch_to.window(chrome.window_handles[0])  # 부모창으로 제어 넘김\n",
    "time.sleep(1)"
   ]
  },
  {
   "cell_type": "code",
   "execution_count": null,
   "id": "789dfcf1-64f0-4635-9678-7d08617cb038",
   "metadata": {},
   "outputs": [],
   "source": [
    "# 열차 예매 페이지로 이동\n",
    "chrome.find_element(By.CSS_SELECTOR, '.lnb_m01 a').click()\n",
    "time.sleep(1)"
   ]
  },
  {
   "cell_type": "code",
   "execution_count": null,
   "id": "48f0e806-c034-4394-bf8e-db0111be5756",
   "metadata": {},
   "outputs": [],
   "source": [
    "# 종별 선택\n",
    "chrome.find_element(By.ID, 'selGoTrainRa00').click()\n",
    "time.sleep(1)"
   ]
  },
  {
   "cell_type": "code",
   "execution_count": null,
   "id": "02543733-2d4d-46c3-b00a-533bae2958f3",
   "metadata": {},
   "outputs": [],
   "source": [
    "# 출발/도착역 설정\n",
    "start = chrome.find_element(By.ID, 'start')\n",
    "start.clear()\n",
    "start.send_keys(deptst)\n",
    "time.sleep(1)\n",
    "\n",
    "get = chrome.find_element(By.ID, 'get')\n",
    "get.clear()\n",
    "get.send_keys(arrvst)\n",
    "time.sleep(1)"
   ]
  },
  {
   "cell_type": "code",
   "execution_count": null,
   "id": "831472f2-584e-4eb0-b46e-1a0e177e119a",
   "metadata": {},
   "outputs": [],
   "source": [
    "# 출발일/시간 설정\n",
    "# select 요소를 선택하려면 select_by_visible_text 함수 사용\n",
    "syear = Select(chrome.find_element(By.ID, 's_year'))\n",
    "syear.select_by_visible_text(dpyear)\n",
    "time.sleep(1)\n",
    "\n",
    "smonth = Select(chrome.find_element(By.ID, 's_month'))\n",
    "smonth.select_by_visible_text(dpmonth)\n",
    "time.sleep(1)\n",
    "\n",
    "sday = Select(chrome.find_element(By.ID, 's_day'))\n",
    "sday.select_by_visible_text(dpday)\n",
    "time.sleep(1)\n",
    "\n",
    "shour = Select(chrome.find_element(By.ID, 's_hour'))\n",
    "shour.select_by_visible_text(dphour)\n",
    "time.sleep(1)"
   ]
  },
  {
   "cell_type": "code",
   "execution_count": null,
   "id": "2e7c438b-b975-4d24-98dd-877caa4ad05d",
   "metadata": {},
   "outputs": [],
   "source": [
    "# 조회하기 버튼 클릭\n",
    "chrome.find_element(By.CSS_SELECTOR, '.btn_inq a').click()\n",
    "time.sleep(1)"
   ]
  },
  {
   "cell_type": "code",
   "execution_count": null,
   "id": "278982c1-6a29-40b5-a0d9-ee55ad4537df",
   "metadata": {},
   "outputs": [],
   "source": [
    "# 팝업 제거\n",
    "chrome.switch_to.window(chrome.window_handles[1])  # 팝업창으로 제어 넘김\n",
    "chrome.close()\n",
    "\n",
    "chrome.switch_to.window(chrome.window_handles[0])  # 부모창으로 제어 넘김\n",
    "time.sleep(1)"
   ]
  },
  {
   "cell_type": "code",
   "execution_count": null,
   "id": "d9f2e989-8830-4fca-9691-16d222482b0e",
   "metadata": {},
   "outputs": [],
   "source": [
    "# 화면 스크롤\n",
    "chrome.execute_script('windows.scrollTo(0, 1080);')\n",
    "time.sleep(1)"
   ]
  },
  {
   "cell_type": "code",
   "execution_count": null,
   "id": "13abcfe6-eda9-4af8-8156-e3616c3cc287",
   "metadata": {},
   "outputs": [],
   "source": [
    "# 예매하기 버튼 클릭"
   ]
  },
  {
   "cell_type": "code",
   "execution_count": null,
   "id": "fcf44989-8feb-470c-a216-c955c28d8cc6",
   "metadata": {},
   "outputs": [],
   "source": [
    "# 경고창 닫기\n",
    "# 셀레니엄으로 경고창을 닫으려면 switch_to.alert.accprt 함수 사용\n",
    "chrome.swith_to.alert.accept()\n",
    "time.sleep(1)\n",
    "\n",
    "chrome.swith_to.alert.accept()\n",
    "time.sleep(1)"
   ]
  },
  {
   "cell_type": "code",
   "execution_count": null,
   "id": "fdbf338b-1980-4fcb-8f13-ce5b4b1ea477",
   "metadata": {},
   "outputs": [],
   "source": [
    "# 결제"
   ]
  },
  {
   "cell_type": "code",
   "execution_count": null,
   "id": "99cb6b41-612c-4915-9b57-9d5f24ddfed5",
   "metadata": {},
   "outputs": [],
   "source": [
    "# 결제 유형 선택"
   ]
  },
  {
   "cell_type": "code",
   "execution_count": null,
   "id": "9bd1435a-4bb1-49c2-a7f8-111a40efa3dd",
   "metadata": {},
   "outputs": [],
   "source": [
    "# 신용카드 정보 입력"
   ]
  },
  {
   "cell_type": "code",
   "execution_count": null,
   "id": "0b8338f4-8e80-4950-a1df-818deaf170c9",
   "metadata": {},
   "outputs": [],
   "source": [
    "# 발권"
   ]
  },
  {
   "cell_type": "code",
   "execution_count": null,
   "id": "956a026e-7c7c-4f33-bd4a-3635024ffb9a",
   "metadata": {},
   "outputs": [],
   "source": [
    "# 브라우저 닫기\n",
    "chrome.close()"
   ]
  }
 ],
 "metadata": {
  "kernelspec": {
   "display_name": "Python 3 (ipykernel)",
   "language": "python",
   "name": "python3"
  },
  "language_info": {
   "codemirror_mode": {
    "name": "ipython",
    "version": 3
   },
   "file_extension": ".py",
   "mimetype": "text/x-python",
   "name": "python",
   "nbconvert_exporter": "python",
   "pygments_lexer": "ipython3",
   "version": "3.11.4"
  }
 },
 "nbformat": 4,
 "nbformat_minor": 5
}
