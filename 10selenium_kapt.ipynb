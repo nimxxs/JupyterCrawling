{
 "cells": [
  {
   "cell_type": "markdown",
   "id": "87afa730-4aba-4a3d-a838-bdbc7182492a",
   "metadata": {},
   "source": [
    "## 아파트 단지 정보에서 주차장 정보 추출\n",
    " + 관련 사이트 : k-apt.go.kr\n",
    " + 메인페이지 팝업창 닫기 => '단지정보' 클릭\n",
    " + => 2023.07, 서울, 강남구, 삼성동, 아이파크삼성동 클릭"
   ]
  },
  {
   "cell_type": "code",
   "execution_count": 16,
   "id": "a5a58ad0-2b43-4559-8ca0-27e6cf83a8ca",
   "metadata": {},
   "outputs": [],
   "source": [
    "import time\n",
    "\n",
    "from selenium import webdriver\n",
    "from selenium.webdriver.chrome.service import Service\n",
    "from selenium.webdriver.support.select import Select\n",
    "from webdriver_manager.chrome import ChromeDriverManager\n",
    "from selenium.webdriver.common.by import By\n",
    "from selenium.webdriver.common.keys import Keys"
   ]
  },
  {
   "cell_type": "code",
   "execution_count": 17,
   "id": "b58a7867-0047-4a59-9e84-1824cd5d45c9",
   "metadata": {},
   "outputs": [],
   "source": [
    "options = webdriver.ChromeOptions()\n",
    "options.add_argument(\"--headless\")\n",
    "options.add_argument(\"--no-sandbox\")\n",
    "options.add_argument(\"--disable-dev-shm-usage\")"
   ]
  },
  {
   "cell_type": "code",
   "execution_count": 18,
   "id": "71ddf3fe-c619-4ce8-8bf0-85e9ba5b1539",
   "metadata": {},
   "outputs": [],
   "source": [
    "services = Service(ChromeDriverManager().install())  \n",
    "chrome = webdriver.Chrome(service=services, options=options)"
   ]
  },
  {
   "cell_type": "code",
   "execution_count": 19,
   "id": "dc218daa-d9e8-4249-8330-029fdf9d6743",
   "metadata": {},
   "outputs": [],
   "source": [
    "url = 'http://www.k-apt.go.kr'"
   ]
  },
  {
   "cell_type": "code",
   "execution_count": 20,
   "id": "4be5048d-1c1b-42cf-a206-332c2ebd2f00",
   "metadata": {},
   "outputs": [],
   "source": [
    "chrome.get(url)\n",
    "time.sleep(1)"
   ]
  },
  {
   "cell_type": "code",
   "execution_count": 24,
   "id": "3bc41e9b-b400-4a1e-b8c2-b42bd1b51a6b",
   "metadata": {},
   "outputs": [],
   "source": [
    "# 아파트 목록 출력\n",
    "from bs4 import BeautifulSoup\n",
    "\n",
    "html = BeautifulSoup(chrome.page_source, 'lxml')"
   ]
  },
  {
   "cell_type": "code",
   "execution_count": 25,
   "id": "84723b8e-cc13-4ce1-8eaa-1945037e9591",
   "metadata": {},
   "outputs": [],
   "source": [
    "# 아파트 이름/주소 출력\n",
    "for name in html.select('.aptS_rLName'):\n",
    "    print(name.text)\n",
    "for addr in html.select('.aptS_rLAdd'):\n",
    "    print(addr.text)"
   ]
  },
  {
   "cell_type": "code",
   "execution_count": 23,
   "id": "42322604-4d4b-48bf-a11c-c9bad867b4a4",
   "metadata": {
    "collapsed": true,
    "jupyter": {
     "outputs_hidden": true
    }
   },
   "outputs": [
    {
     "ename": "NoSuchElementException",
     "evalue": "Message: no such element: Unable to locate element: {\"method\":\"css selector\",\"selector\":\".lnbNav li:nth-child(3) a\"}\n  (Session info: headless chrome=116.0.5845.96); For documentation on this error, please visit: https://www.selenium.dev/documentation/webdriver/troubleshooting/errors#no-such-element-exception\nStacktrace:\n#0 0x55977324de23 <unknown>\n#1 0x559772f767a7 <unknown>\n#2 0x559772fb51d3 <unknown>\n#3 0x559772fb52c1 <unknown>\n#4 0x559772ff0a04 <unknown>\n#5 0x559772fd603d <unknown>\n#6 0x559772fee369 <unknown>\n#7 0x559772fd5de3 <unknown>\n#8 0x559772fa9a7b <unknown>\n#9 0x559772faa81e <unknown>\n#10 0x55977320f638 <unknown>\n#11 0x559773213507 <unknown>\n#12 0x55977321dc4c <unknown>\n#13 0x559773214136 <unknown>\n#14 0x5597731e29cf <unknown>\n#15 0x559773237b98 <unknown>\n#16 0x559773237d68 <unknown>\n#17 0x559773246cb3 <unknown>\n#18 0x7f78406d9b43 <unknown>\n",
     "output_type": "error",
     "traceback": [
      "\u001b[0;31m---------------------------------------------------------------------------\u001b[0m",
      "\u001b[0;31mNoSuchElementException\u001b[0m                    Traceback (most recent call last)",
      "Cell \u001b[0;32mIn[23], line 3\u001b[0m\n\u001b[1;32m      1\u001b[0m \u001b[38;5;66;03m# 주차장 대수 출력\u001b[39;00m\n\u001b[1;32m      2\u001b[0m \u001b[38;5;66;03m# 관리시설 정보 클릭\u001b[39;00m\n\u001b[0;32m----> 3\u001b[0m \u001b[43mchrome\u001b[49m\u001b[38;5;241;43m.\u001b[39;49m\u001b[43mfind_element\u001b[49m\u001b[43m(\u001b[49m\u001b[43mBy\u001b[49m\u001b[38;5;241;43m.\u001b[39;49m\u001b[43mCSS_SELECTOR\u001b[49m\u001b[43m,\u001b[49m\u001b[43m \u001b[49m\u001b[38;5;124;43m'\u001b[39;49m\u001b[38;5;124;43m.lnbNav li:nth-child(3) a\u001b[39;49m\u001b[38;5;124;43m'\u001b[39;49m\u001b[43m)\u001b[49m\u001b[38;5;241m.\u001b[39mclick()\n",
      "File \u001b[0;32m/opt/conda/lib/python3.11/site-packages/selenium/webdriver/remote/webdriver.py:739\u001b[0m, in \u001b[0;36mWebDriver.find_element\u001b[0;34m(self, by, value)\u001b[0m\n\u001b[1;32m    736\u001b[0m     by \u001b[38;5;241m=\u001b[39m By\u001b[38;5;241m.\u001b[39mCSS_SELECTOR\n\u001b[1;32m    737\u001b[0m     value \u001b[38;5;241m=\u001b[39m \u001b[38;5;124mf\u001b[39m\u001b[38;5;124m'\u001b[39m\u001b[38;5;124m[name=\u001b[39m\u001b[38;5;124m\"\u001b[39m\u001b[38;5;132;01m{\u001b[39;00mvalue\u001b[38;5;132;01m}\u001b[39;00m\u001b[38;5;124m\"\u001b[39m\u001b[38;5;124m]\u001b[39m\u001b[38;5;124m'\u001b[39m\n\u001b[0;32m--> 739\u001b[0m \u001b[38;5;28;01mreturn\u001b[39;00m \u001b[38;5;28;43mself\u001b[39;49m\u001b[38;5;241;43m.\u001b[39;49m\u001b[43mexecute\u001b[49m\u001b[43m(\u001b[49m\u001b[43mCommand\u001b[49m\u001b[38;5;241;43m.\u001b[39;49m\u001b[43mFIND_ELEMENT\u001b[49m\u001b[43m,\u001b[49m\u001b[43m \u001b[49m\u001b[43m{\u001b[49m\u001b[38;5;124;43m\"\u001b[39;49m\u001b[38;5;124;43musing\u001b[39;49m\u001b[38;5;124;43m\"\u001b[39;49m\u001b[43m:\u001b[49m\u001b[43m \u001b[49m\u001b[43mby\u001b[49m\u001b[43m,\u001b[49m\u001b[43m \u001b[49m\u001b[38;5;124;43m\"\u001b[39;49m\u001b[38;5;124;43mvalue\u001b[39;49m\u001b[38;5;124;43m\"\u001b[39;49m\u001b[43m:\u001b[49m\u001b[43m \u001b[49m\u001b[43mvalue\u001b[49m\u001b[43m}\u001b[49m\u001b[43m)\u001b[49m[\u001b[38;5;124m\"\u001b[39m\u001b[38;5;124mvalue\u001b[39m\u001b[38;5;124m\"\u001b[39m]\n",
      "File \u001b[0;32m/opt/conda/lib/python3.11/site-packages/selenium/webdriver/remote/webdriver.py:345\u001b[0m, in \u001b[0;36mWebDriver.execute\u001b[0;34m(self, driver_command, params)\u001b[0m\n\u001b[1;32m    343\u001b[0m response \u001b[38;5;241m=\u001b[39m \u001b[38;5;28mself\u001b[39m\u001b[38;5;241m.\u001b[39mcommand_executor\u001b[38;5;241m.\u001b[39mexecute(driver_command, params)\n\u001b[1;32m    344\u001b[0m \u001b[38;5;28;01mif\u001b[39;00m response:\n\u001b[0;32m--> 345\u001b[0m     \u001b[38;5;28;43mself\u001b[39;49m\u001b[38;5;241;43m.\u001b[39;49m\u001b[43merror_handler\u001b[49m\u001b[38;5;241;43m.\u001b[39;49m\u001b[43mcheck_response\u001b[49m\u001b[43m(\u001b[49m\u001b[43mresponse\u001b[49m\u001b[43m)\u001b[49m\n\u001b[1;32m    346\u001b[0m     response[\u001b[38;5;124m\"\u001b[39m\u001b[38;5;124mvalue\u001b[39m\u001b[38;5;124m\"\u001b[39m] \u001b[38;5;241m=\u001b[39m \u001b[38;5;28mself\u001b[39m\u001b[38;5;241m.\u001b[39m_unwrap_value(response\u001b[38;5;241m.\u001b[39mget(\u001b[38;5;124m\"\u001b[39m\u001b[38;5;124mvalue\u001b[39m\u001b[38;5;124m\"\u001b[39m, \u001b[38;5;28;01mNone\u001b[39;00m))\n\u001b[1;32m    347\u001b[0m     \u001b[38;5;28;01mreturn\u001b[39;00m response\n",
      "File \u001b[0;32m/opt/conda/lib/python3.11/site-packages/selenium/webdriver/remote/errorhandler.py:229\u001b[0m, in \u001b[0;36mErrorHandler.check_response\u001b[0;34m(self, response)\u001b[0m\n\u001b[1;32m    227\u001b[0m         alert_text \u001b[38;5;241m=\u001b[39m value[\u001b[38;5;124m\"\u001b[39m\u001b[38;5;124malert\u001b[39m\u001b[38;5;124m\"\u001b[39m]\u001b[38;5;241m.\u001b[39mget(\u001b[38;5;124m\"\u001b[39m\u001b[38;5;124mtext\u001b[39m\u001b[38;5;124m\"\u001b[39m)\n\u001b[1;32m    228\u001b[0m     \u001b[38;5;28;01mraise\u001b[39;00m exception_class(message, screen, stacktrace, alert_text)  \u001b[38;5;66;03m# type: ignore[call-arg]  # mypy is not smart enough here\u001b[39;00m\n\u001b[0;32m--> 229\u001b[0m \u001b[38;5;28;01mraise\u001b[39;00m exception_class(message, screen, stacktrace)\n",
      "\u001b[0;31mNoSuchElementException\u001b[0m: Message: no such element: Unable to locate element: {\"method\":\"css selector\",\"selector\":\".lnbNav li:nth-child(3) a\"}\n  (Session info: headless chrome=116.0.5845.96); For documentation on this error, please visit: https://www.selenium.dev/documentation/webdriver/troubleshooting/errors#no-such-element-exception\nStacktrace:\n#0 0x55977324de23 <unknown>\n#1 0x559772f767a7 <unknown>\n#2 0x559772fb51d3 <unknown>\n#3 0x559772fb52c1 <unknown>\n#4 0x559772ff0a04 <unknown>\n#5 0x559772fd603d <unknown>\n#6 0x559772fee369 <unknown>\n#7 0x559772fd5de3 <unknown>\n#8 0x559772fa9a7b <unknown>\n#9 0x559772faa81e <unknown>\n#10 0x55977320f638 <unknown>\n#11 0x559773213507 <unknown>\n#12 0x55977321dc4c <unknown>\n#13 0x559773214136 <unknown>\n#14 0x5597731e29cf <unknown>\n#15 0x559773237b98 <unknown>\n#16 0x559773237d68 <unknown>\n#17 0x559773246cb3 <unknown>\n#18 0x7f78406d9b43 <unknown>\n"
     ]
    }
   ],
   "source": [
    "# 주차장 대수 출력\n",
    "# 관리시설 정보 클릭\n",
    "chrome.find_element(By.CSS_SELECTOR, '.lnbNav li:nth-child(3) a').click()"
   ]
  },
  {
   "cell_type": "code",
   "execution_count": null,
   "id": "38d1a146-43bf-4974-8a52-e2a3260af377",
   "metadata": {},
   "outputs": [],
   "source": [
    "# 주차장 정보 출력\n",
    "chrome.find_element(By.CSS_SELECTOR, '#kaptd_pcnt').text\n",
    "chrome.find_element(By.CSS_SELECTOR, '#kaptd_pcntu').text"
   ]
  },
  {
   "cell_type": "code",
   "execution_count": 26,
   "id": "63a7c4b8-e63c-42d9-81c9-1dbe5ef292b3",
   "metadata": {},
   "outputs": [],
   "source": [
    "chrome.close()"
   ]
  }
 ],
 "metadata": {
  "kernelspec": {
   "display_name": "Python 3 (ipykernel)",
   "language": "python",
   "name": "python3"
  },
  "language_info": {
   "codemirror_mode": {
    "name": "ipython",
    "version": 3
   },
   "file_extension": ".py",
   "mimetype": "text/x-python",
   "name": "python",
   "nbconvert_exporter": "python",
   "pygments_lexer": "ipython3",
   "version": "3.11.4"
  }
 },
 "nbformat": 4,
 "nbformat_minor": 5
}
