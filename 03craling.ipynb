{
 "cells": [
  {
   "cell_type": "markdown",
   "id": "95eff312-55d9-4ed0-b207-ed2a6c510a65",
   "metadata": {},
   "source": [
    "# 일자별 뉴스기사 크롤링하기\n",
    "* 기사에 대한 일자는 pdate라는 변수가\n",
    "* 기사의 각 페이지는 pgi라는 변수에 의해 제어됨\n",
    "* requests의 get 함수 호출시 params 매개변수에 의해\n",
    "* 질의문자열의 매개변수를 설정할 수 있음"
   ]
  },
  {
   "cell_type": "code",
   "execution_count": 22,
   "id": "a4c708bc-8aa4-4a18-be14-6be66eabef07",
   "metadata": {},
   "outputs": [],
   "source": [
    "import requests\n",
    "from lxml import html"
   ]
  },
  {
   "cell_type": "markdown",
   "id": "eac52080-55be-439c-adfa-2c80b836ddd9",
   "metadata": {},
   "source": [
    "### JTBC 뉴스 속보 사이트에서 일자별로 기사 크롤링하기"
   ]
  },
  {
   "cell_type": "code",
   "execution_count": 23,
   "id": "eb61e414-2f99-4353-ae7e-f83e723a3dee",
   "metadata": {},
   "outputs": [],
   "source": [
    "url = 'https://news.jtbc.co.kr/section/list.aspx?scode='\n",
    "headers = {'User-Agent':'Mozilla/5.0 (Windows NT 10.0; Win64; x64) AppleWebKit/537.36 (KHTML, like Gecko) Chrome/115.0.0.0 Safari/537.36'}"
   ]
  },
  {
   "cell_type": "code",
   "execution_count": 25,
   "id": "fbe8d3e8-582b-4696-bfb2-ecd5e243e878",
   "metadata": {},
   "outputs": [
    {
     "name": "stdin",
     "output_type": "stream",
     "text": [
      "검색할 기사의 날짜(예:20230814)는?  20230803\n"
     ]
    }
   ],
   "source": [
    "# 검색할 기사의 날짜를 입력받음\n",
    "pdate = input('검색할 기사의 날짜(예:20230814)는? ')\n",
    "params = {'pdate':pdate}"
   ]
  },
  {
   "cell_type": "markdown",
   "id": "c8f810aa-3ea1-468f-8ac2-34cf1cb2bb32",
   "metadata": {},
   "source": [
    "### 크롤링 시작"
   ]
  },
  {
   "cell_type": "code",
   "execution_count": 26,
   "id": "dc3e89a8-8ebb-4ea8-9ac4-fdefa5330f92",
   "metadata": {},
   "outputs": [],
   "source": [
    "res = requests.get(url, headers=headers, params=params)\n",
    "text = html.fromstring(res.text)"
   ]
  },
  {
   "cell_type": "markdown",
   "id": "6325af7b-ad83-4540-ac79-320ab35bf97b",
   "metadata": {},
   "source": [
    "### 추출한 요소들을 리스트에 저장 "
   ]
  },
  {
   "cell_type": "code",
   "execution_count": 27,
   "id": "0907fda4-5055-4cb1-8579-c7912bb3bdcd",
   "metadata": {},
   "outputs": [],
   "source": [
    "titles, previews, categorys, reporters, pdates = [], [], [], [], []\n",
    "\n",
    "# 제목 추출  \n",
    "for title in text.cssselect('dt.title_cr a'):\n",
    "    # print(title.text_content())\n",
    "    titles.append(title.text_content())\n",
    "# 미리보기 추출  \n",
    "for preview in text.cssselect('dd.read_cr a'):\n",
    "    previews.append(preview.text_content())"
   ]
  },
  {
   "cell_type": "code",
   "execution_count": 28,
   "id": "8c5f536d-5f54-41d4-998c-073bd7fa18bb",
   "metadata": {},
   "outputs": [],
   "source": [
    "# 카테고리 추출  \n",
    "for category in text.cssselect('span.location'):\n",
    "    cate = category.text_content().strip()\n",
    "    cate = cate.replace('\\r','').replace('\\n','')\n",
    "    cate = cate.replace('\\t','').replace(' ','')\n",
    "    cate = cate.replace('[JTBC>','').replace(']','')\n",
    "    categorys.append(cate)"
   ]
  },
  {
   "cell_type": "code",
   "execution_count": 29,
   "id": "9aef9ea3-da4d-4a54-80af-1148c4bfd7fb",
   "metadata": {},
   "outputs": [],
   "source": [
    "# 기자명 추출  \n",
    "for reporter in text.cssselect('span.writer'):\n",
    "    # print(reporter.text_content().strip())\n",
    "    reporters.append(reporter.text_content().strip())"
   ]
  },
  {
   "cell_type": "code",
   "execution_count": 30,
   "id": "33efe197-0ed7-4895-8ae1-507aadd0fae3",
   "metadata": {},
   "outputs": [],
   "source": [
    "# 송고날짜 추출  \n",
    "for pdate in text.cssselect('span.date'):\n",
    "    # print(pdate.text_content())\n",
    "    pdates.append(pdate.text_content().strip())"
   ]
  },
  {
   "cell_type": "code",
   "execution_count": 31,
   "id": "445803a7-9eda-4524-b085-21f1a16c6454",
   "metadata": {},
   "outputs": [
    {
     "name": "stdout",
     "output_type": "stream",
     "text": [
      "15 15 15 15 15\n"
     ]
    }
   ],
   "source": [
    "print(len(titles),len(previews),len(categorys),len(reporters),len(pdates))"
   ]
  },
  {
   "cell_type": "markdown",
   "id": "8f1b33fb-8838-413c-af9e-eb7123db955b",
   "metadata": {},
   "source": [
    "### 리스트에 저장한 내용을 파일에 저장"
   ]
  },
  {
   "cell_type": "code",
   "execution_count": 32,
   "id": "ba05944d-8c94-471c-b245-bd76bdc53207",
   "metadata": {},
   "outputs": [],
   "source": [
    "import json\n",
    "from collections import OrderedDict"
   ]
  },
  {
   "cell_type": "code",
   "execution_count": 33,
   "id": "e6b39dc5-3e72-4e9b-a844-4faf60a91bf3",
   "metadata": {},
   "outputs": [],
   "source": [
    "jtbcnews = OrderedDict()\n",
    "items = OrderedDict()\n",
    "body = OrderedDict()\n",
    "news = []\n",
    "\n",
    "for i in range(len(titles)):\n",
    "    item = OrderedDict()\n",
    "    item['title'] = titles[i]\n",
    "    item['preview'] = previews[i]\n",
    "    item['category'] = categorys[i]\n",
    "    item['reporter'] = reporters[i]\n",
    "    item['pdate'] = pdates[i]\n",
    "    news.append(item)\n",
    "\n",
    "items['items'] = news\n",
    "body['body'] = items\n",
    "jtbcnews['response'] = body"
   ]
  },
  {
   "cell_type": "code",
   "execution_count": 34,
   "id": "396973a5-0574-4bf0-8010-8c4ffb111d2f",
   "metadata": {},
   "outputs": [],
   "source": [
    "with open('./data/jtbcnews.json', 'w', encoding='utf-8') as f:\n",
    "       json.dump(jtbcnews, f, ensure_ascii=False)"
   ]
  },
  {
   "cell_type": "markdown",
   "id": "a3a72eec-6f89-40f2-98aa-8c17ce72568b",
   "metadata": {},
   "source": [
    "### 리스트에 저장한 내용을 디비에 저장"
   ]
  },
  {
   "cell_type": "code",
   "execution_count": 35,
   "id": "c34d1289-96b7-4cbf-8dd8-19cbf63550b8",
   "metadata": {},
   "outputs": [],
   "source": [
    "# jtbcnews 테이블 구조 : 제목, 기사미리보기, 카테고리, 기자명, 송고날짜\n",
    "# create table jtbcnews (\n",
    "#     jtbcno     int            auto_increment,\n",
    "#     title      varchar(100)   not null,\n",
    "#     preview    varchar(350)   not null,\n",
    "#     category   varchar(50)    not null,\n",
    "#     reporter    varchar(50)    not null,\n",
    "#     pdate      char(25)       not null,\n",
    "#     primary key (jtbcno)\n",
    "# );"
   ]
  },
  {
   "cell_type": "code",
   "execution_count": 36,
   "id": "f7f8d16a-bcd6-485e-9ee1-36a66a231e30",
   "metadata": {},
   "outputs": [],
   "source": [
    "import mariadb"
   ]
  },
  {
   "cell_type": "code",
   "execution_count": 37,
   "id": "c92aa552-f7dd-4a27-be67-aebe50d1459e",
   "metadata": {},
   "outputs": [],
   "source": [
    "# mariadb 접속 정보\n",
    "url = 'bigdata.cto1qluvf6xh.ap-northeast-2.rds.amazonaws.com'\n",
    "uid = 'admin'\n",
    "pwd = 'Bigdata_2023'\n",
    "db = 'bigdata'"
   ]
  },
  {
   "cell_type": "code",
   "execution_count": 16,
   "id": "78ef28ad-0175-45ee-a28d-b934fa9ec9e9",
   "metadata": {
    "collapsed": true,
    "jupyter": {
     "outputs_hidden": true
    }
   },
   "outputs": [
    {
     "name": "stdout",
     "output_type": "stream",
     "text": [
      "1번째 데이터 입력됨!\n",
      "2번째 데이터 입력됨!\n",
      "3번째 데이터 입력됨!\n",
      "4번째 데이터 입력됨!\n",
      "5번째 데이터 입력됨!\n",
      "6번째 데이터 입력됨!\n",
      "7번째 데이터 입력됨!\n",
      "8번째 데이터 입력됨!\n",
      "9번째 데이터 입력됨!\n",
      "10번째 데이터 입력됨!\n",
      "11번째 데이터 입력됨!\n",
      "12번째 데이터 입력됨!\n",
      "13번째 데이터 입력됨!\n",
      "14번째 데이터 입력됨!\n",
      "15번째 데이터 입력됨!\n"
     ]
    }
   ],
   "source": [
    "sql = 'insert into jtbcnews (title, preview, category, reporter, pdate) values (?,?,?,?,?)'\n",
    "conn = None\n",
    "cur = None\n",
    "\n",
    "try:\n",
    "    conn = mariadb.connect(host=url, user=uid, password=pwd, database=db)\n",
    "    cur = conn.cursor()\n",
    "\n",
    "    for i in range(len(titles)):\n",
    "        params = (titles[i], previews[i], categorys[i], reporters[i], pdates[i])\n",
    "        cur.execute(sql, params)\n",
    "        conn.commit()\n",
    "        print(f'{i+1}번째 데이터 입력됨!')\n",
    "\n",
    "except mariadb.Error as e:\n",
    "    print('오류발생!!', e)\n",
    "finally:\n",
    "    cur.close()\n",
    "    conn.close()"
   ]
  }
 ],
 "metadata": {
  "kernelspec": {
   "display_name": "Python 3 (ipykernel)",
   "language": "python",
   "name": "python3"
  },
  "language_info": {
   "codemirror_mode": {
    "name": "ipython",
    "version": 3
   },
   "file_extension": ".py",
   "mimetype": "text/x-python",
   "name": "python",
   "nbconvert_exporter": "python",
   "pygments_lexer": "ipython3",
   "version": "3.11.4"
  }
 },
 "nbformat": 4,
 "nbformat_minor": 5
}
