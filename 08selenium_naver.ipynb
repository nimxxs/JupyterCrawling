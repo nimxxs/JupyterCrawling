{
 "cells": [
  {
   "cell_type": "markdown",
   "id": "eb1fcee4-cdde-4a9c-80c9-bcd44f14cfd0",
   "metadata": {},
   "source": [
    "# 셀레니엄으로 네이버 로그인하기"
   ]
  },
  {
   "cell_type": "code",
   "execution_count": 1,
   "id": "0ffb7379-8742-40db-8827-68a0d59ce58a",
   "metadata": {
    "collapsed": true,
    "jupyter": {
     "outputs_hidden": true
    }
   },
   "outputs": [
    {
     "name": "stdout",
     "output_type": "stream",
     "text": [
      "Collecting webdriver-manager\n",
      "  Obtaining dependency information for webdriver-manager from https://files.pythonhosted.org/packages/19/5a/a16653bfce685c9832217d377f52065351eeac9862e44e2996cd81f3bb4d/webdriver_manager-4.0.0-py2.py3-none-any.whl.metadata\n",
      "  Downloading webdriver_manager-4.0.0-py2.py3-none-any.whl.metadata (11 kB)\n",
      "Requirement already satisfied: requests in /opt/conda/lib/python3.11/site-packages (from webdriver-manager) (2.31.0)\n",
      "Collecting python-dotenv (from webdriver-manager)\n",
      "  Downloading python_dotenv-1.0.0-py3-none-any.whl (19 kB)\n",
      "Requirement already satisfied: packaging in /opt/conda/lib/python3.11/site-packages (from webdriver-manager) (23.1)\n",
      "Requirement already satisfied: charset-normalizer<4,>=2 in /opt/conda/lib/python3.11/site-packages (from requests->webdriver-manager) (3.2.0)\n",
      "Requirement already satisfied: idna<4,>=2.5 in /opt/conda/lib/python3.11/site-packages (from requests->webdriver-manager) (3.4)\n",
      "Requirement already satisfied: urllib3<3,>=1.21.1 in /opt/conda/lib/python3.11/site-packages (from requests->webdriver-manager) (2.0.4)\n",
      "Requirement already satisfied: certifi>=2017.4.17 in /opt/conda/lib/python3.11/site-packages (from requests->webdriver-manager) (2023.7.22)\n",
      "Downloading webdriver_manager-4.0.0-py2.py3-none-any.whl (27 kB)\n",
      "Installing collected packages: python-dotenv, webdriver-manager\n",
      "Successfully installed python-dotenv-1.0.0 webdriver-manager-4.0.0\n"
     ]
    }
   ],
   "source": [
    "!pip install webdriver-manager"
   ]
  },
  {
   "cell_type": "code",
   "execution_count": 2,
   "id": "5a6a1fc6-d5c2-4364-abf3-b9a4197fd5ee",
   "metadata": {
    "collapsed": true,
    "jupyter": {
     "outputs_hidden": true
    }
   },
   "outputs": [
    {
     "name": "stdout",
     "output_type": "stream",
     "text": [
      "Collecting pyperclip\n",
      "  Downloading pyperclip-1.8.2.tar.gz (20 kB)\n",
      "  Preparing metadata (setup.py) ... \u001b[?25ldone\n",
      "\u001b[?25hBuilding wheels for collected packages: pyperclip\n",
      "  Building wheel for pyperclip (setup.py) ... \u001b[?25ldone\n",
      "\u001b[?25h  Created wheel for pyperclip: filename=pyperclip-1.8.2-py3-none-any.whl size=11123 sha256=dbbaa85df50e155b8d78a524e58dfcd61f941af412d26ffb05d9fa057cbbcc75\n",
      "  Stored in directory: /home/jovyan/.cache/pip/wheels/70/bd/ba/8ae5c080c895c9360fe6e153acda2dee82527374467eae061b\n",
      "Successfully built pyperclip\n",
      "Installing collected packages: pyperclip\n",
      "Successfully installed pyperclip-1.8.2\n"
     ]
    }
   ],
   "source": [
    "!pip install pyperclip"
   ]
  },
  {
   "cell_type": "code",
   "execution_count": 3,
   "id": "d9fd5add-0762-4a75-894c-0b504a5883d7",
   "metadata": {},
   "outputs": [],
   "source": [
    "import time\n",
    "\n",
    "from selenium import webdriver\n",
    "from selenium.webdriver.chrome.service import Service\n",
    "from webdriver_manager.chrome import ChromeDriverManager\n",
    "from selenium.webdriver.common.by import By\n",
    "from selenium.webdriver.common.keys import Keys     \n",
    "import pyperclip"
   ]
  },
  {
   "cell_type": "code",
   "execution_count": 5,
   "id": "8ae28b0a-ac27-459d-8a16-14de32090814",
   "metadata": {},
   "outputs": [],
   "source": [
    "options = webdriver.ChromeOptions()\n",
    "options.add_argument(\"--headless\")\n",
    "options.add_argument(\"--no-sandbox\")\n",
    "options.add_argument(\"--disable-dev-shm-usage\")"
   ]
  },
  {
   "cell_type": "code",
   "execution_count": 6,
   "id": "efd96fde-3f44-4e98-9408-ee1e9b0e60ba",
   "metadata": {},
   "outputs": [],
   "source": [
    "services = Service(ChromeDriverManager().install())  # 드라이버 자동설치\n",
    "chrome = webdriver.Chrome(service=services, options=options)"
   ]
  },
  {
   "cell_type": "code",
   "execution_count": 7,
   "id": "41296da9-53a2-47ad-8801-a28fba5131f6",
   "metadata": {},
   "outputs": [],
   "source": [
    "url = 'https://www.naver.com'\n",
    "chrome.get(url)"
   ]
  },
  {
   "cell_type": "code",
   "execution_count": 11,
   "id": "52b40fe1-73be-4d0f-8d2b-95d7457456d4",
   "metadata": {},
   "outputs": [],
   "source": [
    "chrome.maximize_window()  # 창 최대로 키우기"
   ]
  },
  {
   "cell_type": "markdown",
   "id": "20d50238-be28-4026-b8ae-98a6e26a9976",
   "metadata": {},
   "source": [
    "### 로그인 하기\n",
    "* 셀레니엄에서 특정요소를 css선택자로 제어하려면 find_element 함수를 이용\n",
    "    + find_element(By.선택자_유형, 선택자)\n",
    "* 셀레니엄에서 요소를 클릭하려면 선택자로 요소를 지정한 후 click 함수 호출"
   ]
  },
  {
   "cell_type": "code",
   "execution_count": null,
   "id": "4bc943eb-a486-448b-a763-2328217da1c5",
   "metadata": {},
   "outputs": [],
   "source": [
    "# 로그인 버튼 클릭\n",
    "chrome.find_element(By.CSS_SELECTOR, 'div.MyView-module__my_login___tOTgr a').click()\n",
    "time.sleep(1)"
   ]
  },
  {
   "cell_type": "markdown",
   "id": "f4a0f953-9af6-4019-9c50-a37f54ec90a1",
   "metadata": {},
   "source": [
    "### 아이디/비밀번호에 값 입력하기\n",
    "* 셀레니엄에서 특정요소에 값을 입력하려면 send_keys 라는 함수 사용"
   ]
  },
  {
   "cell_type": "code",
   "execution_count": null,
   "id": "949facfd-cc61-4b76-8ae6-6c3e9b6bf458",
   "metadata": {},
   "outputs": [],
   "source": [
    "nid = 'tnals2199'\n",
    "pyperclip.copy(nid)             # 아이디를 클립보드로 복사\n",
    "uid = chrome.find_element(By.ID, 'id')\n",
    "# uid.send_keys('nimxxs')       # 네이버 로그인시 실패\n",
    "uid.send_keys(Keys.CONTROL+'v') # 클립보드에 복사된 아이디를 붙여넣기 함\n",
    "time.sleep(1)"
   ]
  },
  {
   "cell_type": "code",
   "execution_count": null,
   "id": "9004113d-bfc9-4a47-a343-3804ffd21dcd",
   "metadata": {},
   "outputs": [],
   "source": [
    "npw = '@@@t710927'\n",
    "pyperclip.copy(npw)             # 비밀번호 클립보드로 복사\n",
    "npw = chrome.find_element(By.ID, 'pw')\n",
    "# pwd.send_keys('nimxxs')  # 네이버 로그인시 실패\n",
    "npw.send_keys(Keys.CONTROL+'v') # 클립보드에 복사된 비밀번호를 붙여넣기 함\n",
    "time.sleep(1)"
   ]
  },
  {
   "cell_type": "code",
   "execution_count": null,
   "id": "61c062dc-81c6-4a2b-bcc0-cf5167093667",
   "metadata": {},
   "outputs": [],
   "source": [
    "chrome.find_element(By.ID, 'log.login').click()\n",
    "time.sleep(1)"
   ]
  },
  {
   "cell_type": "code",
   "execution_count": null,
   "id": "75e36d19-2931-49f1-a909-a74b3a02c358",
   "metadata": {},
   "outputs": [],
   "source": [
    "# 등록여부 지정 - 등록 안함 선택\n",
    "chrome.find_element(By.ID, 'new.dontsave').click()\n",
    "time.sleep(1)"
   ]
  },
  {
   "cell_type": "code",
   "execution_count": null,
   "id": "92763eff-b1a8-450e-92c2-f85997d4deab",
   "metadata": {},
   "outputs": [],
   "source": [
    "# 받은 쪽지 확인\n",
    "memo = chrome.find_element(By.CSS_SELECTOR, 'a.MyView-module__link_new___lnR1w')\n",
    "print(memo.text)"
   ]
  },
  {
   "cell_type": "code",
   "execution_count": null,
   "id": "d97e50ff-0ba0-4811-b322-169f8d7027b4",
   "metadata": {},
   "outputs": [],
   "source": [
    "# 로그아웃\n",
    "chrome.find_element(By.CSS_SELECTOR, 'button.MyView-module__btn_logout___bsTOJ').click()\n",
    "time.sleep(1)"
   ]
  },
  {
   "cell_type": "code",
   "execution_count": 13,
   "id": "cff2245c-853d-4fd6-9126-6d4168c4fead",
   "metadata": {},
   "outputs": [],
   "source": [
    "# 크롬 닫기\n",
    "chrome.close()"
   ]
  }
 ],
 "metadata": {
  "kernelspec": {
   "display_name": "Python 3 (ipykernel)",
   "language": "python",
   "name": "python3"
  },
  "language_info": {
   "codemirror_mode": {
    "name": "ipython",
    "version": 3
   },
   "file_extension": ".py",
   "mimetype": "text/x-python",
   "name": "python",
   "nbconvert_exporter": "python",
   "pygments_lexer": "ipython3",
   "version": "3.11.4"
  }
 },
 "nbformat": 4,
 "nbformat_minor": 5
}
