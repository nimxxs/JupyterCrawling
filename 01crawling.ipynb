{
 "cells": [
  {
   "cell_type": "markdown",
   "id": "c11dcaad-f0c4-45c0-9555-f6155a3f14af",
   "metadata": {},
   "source": [
    "#  빅데이터 \n",
    "* 엄청난 용량의 데이터 집합\n",
    "* 너무 커서 기존의 어플리케이션으로는 분석, 검색, 저장, 수정이 다소 어려움\n",
    "* 하지만, 데이터의 크기에 중점을 두지 않고, 그것으로부터 가치를 추출하기 위해 사용되는 아키텍처, 플랫폼, 및 기술을 총칭하는 의미"
   ]
  },
  {
   "cell_type": "markdown",
   "id": "18f96216-188e-4b08-b8cb-40a08f272710",
   "metadata": {
    "jp-MarkdownHeadingCollapsed": true
   },
   "source": [
    "### 빅데이터의 특성\n",
    "* 3V : 속도, 규모, 다양성\n",
    "* 정확성(4V), 시각화(4V), 가치(5V)"
   ]
  },
  {
   "cell_type": "markdown",
   "id": "76d87856-a470-42ab-a162-c471c9da46d8",
   "metadata": {
    "jp-MarkdownHeadingCollapsed": true
   },
   "source": [
    "### 빅데이터 종류\n",
    "* 정형\n",
    "* 반정형\n",
    "* 비정형"
   ]
  },
  {
   "cell_type": "markdown",
   "id": "2a59f66a-c321-4c4b-8381-db59185ba651",
   "metadata": {},
   "source": [
    "### 빅데이터 처리과정\n",
    "![](./img/data_step.png)"
   ]
  },
  {
   "cell_type": "markdown",
   "id": "b331d1c4-f6ed-4976-b3cf-c87e41eb1898",
   "metadata": {},
   "source": [
    "### 빅데이터 수집\n",
    "* 조직의 내외부에 있는 다양한 시스템으로부터 원천 데이터를 모으는 것"
   ]
  },
  {
   "cell_type": "markdown",
   "id": "0cf66545-0bc7-4980-a43d-cbbdb3498adc",
   "metadata": {},
   "source": [
    "### 크롤링 :\n",
    "* crawling 또는 scraping은 웹페이지의 내용에서 필요한 데이터들을 추출하는 행위를 의미\n",
    "* 단, 데이터 추출을 위해 필요한 모든 일련의 과정 역시 크롤링에 포함하기도 함\n",
    "* 크롤링을 제대로 하기 위해서는 웹이 작동하는 방식과 웹 표준기술을 잘 파악하고 있어야 함"
   ]
  },
  {
   "cell_type": "markdown",
   "id": "7e03c99e-7f36-4577-91bd-34553674b108",
   "metadata": {},
   "source": [
    "#### 설치할 패키지\n",
    "* pip install requests\n",
    "* pip install lxml\n",
    "* pip install cssselect"
   ]
  },
  {
   "cell_type": "markdown",
   "id": "bb9f2b43-9b2e-40e6-aaa6-7bf3b466946a",
   "metadata": {},
   "source": [
    "#### 실습\n",
    "* 한빛 출판네트워크 사이트의 `'새로나온책'`에서 `'도서제목','저자','가격'`들을 수집"
   ]
  },
  {
   "cell_type": "code",
   "execution_count": 6,
   "id": "30219648-e5fd-414c-868d-6ec01ad33f09",
   "metadata": {},
   "outputs": [
    {
     "name": "stdout",
     "output_type": "stream",
     "text": [
      "Requirement already satisfied: lxml in /opt/conda/lib/python3.11/site-packages (4.9.3)\n",
      "Note: you may need to restart the kernel to use updated packages.\n"
     ]
    }
   ],
   "source": [
    "pip install lxml"
   ]
  },
  {
   "cell_type": "code",
   "execution_count": 2,
   "id": "1d9094e1-00df-44b4-bb5e-9ef93f6cf6ce",
   "metadata": {},
   "outputs": [
    {
     "name": "stdout",
     "output_type": "stream",
     "text": [
      "Requirement already satisfied: cssselect in /opt/conda/lib/python3.11/site-packages (1.2.0)\n",
      "Note: you may need to restart the kernel to use updated packages.\n"
     ]
    }
   ],
   "source": [
    "pip install cssselect"
   ]
  },
  {
   "cell_type": "markdown",
   "id": "ae3220da-38c1-4a43-a0ea-e5d0022998b2",
   "metadata": {},
   "source": [
    "### 사용할 패키지 가져오기"
   ]
  },
  {
   "cell_type": "code",
   "execution_count": 3,
   "id": "34ef7af0-5181-432f-976e-330fb165a8cd",
   "metadata": {},
   "outputs": [],
   "source": [
    "import requests\n",
    "from xml.etree import ElementTree\n",
    "from lxml.html import tostring\n",
    "from lxml import html"
   ]
  },
  {
   "cell_type": "markdown",
   "id": "ea14e5c8-5ce1-4858-b121-5138098b4f64",
   "metadata": {},
   "source": [
    "#### 크롤링 시작"
   ]
  },
  {
   "cell_type": "code",
   "execution_count": 4,
   "id": "c2aaea86-5e77-47ac-a5ee-06e8cf0020b9",
   "metadata": {},
   "outputs": [],
   "source": [
    "# 크롤링 할 대상 url 지정\n",
    "url = 'https://www.hanbit.co.kr/store/books/new_book_list.html'"
   ]
  },
  {
   "cell_type": "code",
   "execution_count": 6,
   "id": "5cacd5cb-4295-4c42-9b1d-bea73073070e",
   "metadata": {},
   "outputs": [],
   "source": [
    "# 지정한 url을 이용해서 get방식으로 요청하고 결과 받아옴\n",
    "# requests.get(접속할 주소)\n",
    "res = requests.get(url)"
   ]
  },
  {
   "cell_type": "code",
   "execution_count": 7,
   "id": "7b5a16bf-c1e3-4deb-b216-73ba5364c0c1",
   "metadata": {},
   "outputs": [
    {
     "name": "stdout",
     "output_type": "stream",
     "text": [
      "200\n",
      "{'Date': 'Mon, 14 Aug 2023 03:13:17 GMT', 'Server': 'Apache', 'X-Frame-Options': 'SAMEORIGIN', 'X-Powered-By': 'PHP/5.3.3', 'Set-Cookie': 'PHPSESSID=0jvflq091pts7s7g3tj67jjj81; path=/, PHPSESSID=0jvflq091pts7s7g3tj67jjj81; path=/; secure; SameSite=None', 'Expires': 'Thu, 19 Nov 1981 08:52:00 GMT', 'Cache-Control': 'no-store, no-cache, must-revalidate, post-check=0, pre-check=0', 'Pragma': 'no-cache', 'Connection': 'close', 'Transfer-Encoding': 'chunked', 'Content-Type': 'text/html; charset=UTF-8'}\n"
     ]
    }
   ],
   "source": [
    "print(res.status_code)  # 요청에 대한 결과 확인\n",
    "print(res.headers)      # 요청에 대한 응답헤더 확인"
   ]
  },
  {
   "cell_type": "code",
   "execution_count": 8,
   "id": "0d2f438a-3a3e-4d03-914f-03054858834e",
   "metadata": {},
   "outputs": [
    {
     "name": "stdout",
     "output_type": "stream",
     "text": [
      "<!DOCTYPE html>\n",
      "<html lang=\"ko\">\n",
      "<head>\n",
      "<!--[if lte IE 8]>\n",
      "<script>\n",
      "  location.replace('/support/explorer_upgrade.html');\n",
      "</script>\n",
      "<![endif]-->\n",
      "<meta charset=\"utf-8\"/>\n",
      "<title>한빛출판네트워크</title>\n",
      "<link rel=\"shortcut icon\" href=\"https://www.hanbit.co.kr/images/common/hanbit.ico\"> \n",
      "<meta http-equiv=\"X-UA-Compatible\" content=\"IE=Edge\" />\n",
      "<meta property=\"og:type\" content=\"website\"/>\n",
      "<meta property=\"og:title\" content=\"한빛출판네트워크\"/>\n",
      "<meta property=\"og:description\" content=\"더 넓은 세상, 더 나은 미래를 위\n"
     ]
    }
   ],
   "source": [
    "print(res.text[:500])"
   ]
  },
  {
   "cell_type": "code",
   "execution_count": 9,
   "id": "dd0f3031-d755-4c53-bbec-11473683d103",
   "metadata": {},
   "outputs": [],
   "source": [
    "# 응답으로 읽어온 문서내용을 객체로 만듦\n",
    "doctree = html.fromstring(res.text)"
   ]
  },
  {
   "cell_type": "markdown",
   "id": "6f922e94-a8c7-49c8-a7f2-b31476b5b327",
   "metadata": {},
   "source": [
    "#### 문서 객체에서 필요한 요소 추출\n",
    "* css선택자나 xpath문법으로 필요한 요소를 추출함\n",
    "* cssselect(css선택자)\n",
    "* xpath(xpath경로)"
   ]
  },
  {
   "cell_type": "code",
   "execution_count": 10,
   "id": "de87145e-abad-4c11-8e26-374e6da2a4f5",
   "metadata": {},
   "outputs": [
    {
     "name": "stdout",
     "output_type": "stream",
     "text": [
      "[<Element a at 0x7fba896e0af0>, <Element a at 0x7fba896e0aa0>, <Element a at 0x7fba896e0960>, <Element a at 0x7fba896e0910>, <Element a at 0x7fba896e09b0>, <Element a at 0x7fba896e08c0>, <Element a at 0x7fba896e0730>, <Element a at 0x7fba896e0870>, <Element a at 0x7fba896e0820>, <Element a at 0x7fba896e07d0>, <Element a at 0x7fba896e0780>, <Element a at 0x7fba896e0320>, <Element a at 0x7fba896e06e0>, <Element a at 0x7fba896e0690>, <Element a at 0x7fba896e0640>, <Element a at 0x7fba896e05f0>, <Element a at 0x7fba896e05a0>, <Element a at 0x7fba896e0550>, <Element a at 0x7fba896e0500>, <Element a at 0x7fba896e04b0>]\n"
     ]
    }
   ],
   "source": [
    "# 제목 추출 : p 태그들 중 클래스 선택자가 book_tit인 요소를 활용\n",
    "print(doctree.cssselect('p.book_tit a'))"
   ]
  },
  {
   "cell_type": "code",
   "execution_count": 11,
   "id": "19e179cf-9445-4b99-9314-ab804a12c457",
   "metadata": {
    "collapsed": true,
    "jupyter": {
     "outputs_hidden": true
    }
   },
   "outputs": [
    {
     "name": "stdout",
     "output_type": "stream",
     "text": [
      "IT CookBook, 정보보안 이론과 실제(3판)\n",
      "사라진 개발자들\n",
      "보이지 않는 위협\n",
      "투자의 구원자들\n",
      "1학년 받아쓰기\n",
      "IT CookBook, HTML5 웹 프로그래밍 입문(4판)\n",
      "파이썬 크래시 코스\n",
      "바다에서 보낸 어느 멋진 주말\n",
      "불안이 많은 아이\n",
      "STEM CookBook, 경영경제수학 첫걸음\n",
      "관찰 가능성 엔지니어링\n",
      "논리력을 키우는 영어 글쓰기\n",
      "만화로 보는 피스톨 스토리\n",
      "IT CookBook, 난생처음 데이터 분석 with 파이썬\n",
      "나이가 든다는 착각\n",
      "사실은 이것도 디자인입니다\n",
      "육각형 개발자\n",
      "AI 전쟁\n",
      "일터로 간 뇌과학\n",
      "UML다이어그램을 활용한 소프트웨어 창의 설계\n"
     ]
    }
   ],
   "source": [
    "# 특정한 요소 객체의 텍스트를 추출하려면 text_content 함수 사용\n",
    "for title in doctree.cssselect('p.book_tit a'):\n",
    "    print(title.text_content())"
   ]
  },
  {
   "cell_type": "code",
   "execution_count": 17,
   "id": "5bf23994-bbe8-44f0-9a3b-6a53c4e3fd5a",
   "metadata": {
    "collapsed": true,
    "jupyter": {
     "outputs_hidden": true
    }
   },
   "outputs": [
    {
     "name": "stdout",
     "output_type": "stream",
     "text": [
      "Mark Stamp \n",
      "캐시 클라이먼 \n",
      "김홍선 \n",
      "로빈 위글스워스 \n",
      "하유정 \n",
      "윤인성 \n",
      "에릭 마테스 \n",
      "가엘 알메라스 \n",
      "이다랑 \n",
      "김진한 , 이재원 \n",
      "알렉스 보텐 \n",
      "이요안 \n",
      "푸르공 , 이세환(감수) \n",
      "김규석 , 김주희 , 이준 \n",
      "베카 레비 \n",
      "김성연 \n",
      "최범균 \n",
      "하정우 , 한상기 \n",
      "프레데리케 파브리티우스 \n",
      "박현석 , 김연정 , 김연우 , 지현진 \n"
     ]
    }
   ],
   "source": [
    "# 저자 추출 : p 태그들 중 클래스 선택자가 book_writer인 요소를 활용\n",
    "for writer in doctree.cssselect('p.book_writer'):\n",
    "    print(writer.text_content())"
   ]
  },
  {
   "cell_type": "code",
   "execution_count": 20,
   "id": "aea92ab2-1d58-484e-a213-3a6fa01a2f97",
   "metadata": {
    "collapsed": true,
    "jupyter": {
     "outputs_hidden": true
    }
   },
   "outputs": [
    {
     "name": "stdout",
     "output_type": "stream",
     "text": [
      "32000\n",
      "18900\n",
      "16920\n",
      "24300\n",
      "13500\n",
      "29000\n",
      "35100\n",
      "16200\n",
      "16200\n",
      "26000\n",
      "28800\n",
      "20000\n",
      "19800\n",
      "26000\n",
      "17820\n",
      "17100\n",
      "19800\n",
      "17820\n",
      "19800\n",
      "24000\n"
     ]
    }
   ],
   "source": [
    "# 가격 추출 : p 태그들 중 클래스 선택자가 price인 요소를 활용\n",
    "for price in doctree.cssselect('span.price'):\n",
    "    print(price.text_content().replace(',','').replace('원',''))"
   ]
  },
  {
   "cell_type": "markdown",
   "id": "f4dcada9-5a68-4b43-b944-9c7e53f36941",
   "metadata": {},
   "source": [
    "#### 추출한 요소들을 리스트에 저장"
   ]
  },
  {
   "cell_type": "code",
   "execution_count": 36,
   "id": "af073ac1-6f25-44b4-9066-f600dbc11575",
   "metadata": {},
   "outputs": [],
   "source": [
    "titles, writers, prices = [], [], []\n",
    "\n",
    "for title in doctree.cssselect('p.book_tit a'):\n",
    "    titles.append(title.text_content())\n",
    "\n",
    "for writer in doctree.cssselect('p.book_writer'):\n",
    "    writers.append(writer.text_content())\n",
    "\n",
    "for price in doctree.cssselect('span.price'):\n",
    "    prices.append(price.text_content().replace(',','').replace('원',''))"
   ]
  },
  {
   "cell_type": "code",
   "execution_count": 37,
   "id": "22cac5d5-9817-471f-9884-9ee8433bcc7d",
   "metadata": {},
   "outputs": [
    {
     "name": "stdout",
     "output_type": "stream",
     "text": [
      "['IT CookBook, 정보보안 이론과 실제(3판)', '사라진 개발자들', '보이지 않는 위협', '투자의 구원자들', '1학년 받아쓰기']\n",
      "['Mark Stamp ', '캐시 클라이먼 ', '김홍선 ', '로빈 위글스워스 ', '하유정 ']\n",
      "['32000', '18900', '16920', '24300', '13500']\n"
     ]
    }
   ],
   "source": [
    "print(titles[:5])\n",
    "print(writers[:5])\n",
    "print(prices[:5])"
   ]
  },
  {
   "cell_type": "markdown",
   "id": "0f4f7aea-bbc2-4c08-b4ef-9e2a2cfbe7c2",
   "metadata": {},
   "source": [
    "#### 리스트에 저장한 내용을 파일에 저장"
   ]
  },
  {
   "cell_type": "code",
   "execution_count": null,
   "id": "cc8e501d-4b0a-4d16-93b2-cc5bf27996bc",
   "metadata": {},
   "outputs": [],
   "source": [
    "# newbooks.csv로 저장"
   ]
  },
  {
   "cell_type": "code",
   "execution_count": 65,
   "id": "219ec0df-ce96-4ffb-ad17-82d0eea60d69",
   "metadata": {},
   "outputs": [],
   "source": [
    "import csv\n",
    "import json\n",
    "from collections import OrderedDict"
   ]
  },
  {
   "cell_type": "code",
   "execution_count": 66,
   "id": "cd4a6183-7b40-4ae2-beff-229d27c11351",
   "metadata": {},
   "outputs": [],
   "source": [
    "with open('./data/newbooks.csv', 'w', encoding='utf-8', newline='') as f:\n",
    "    wr = csv.writer(f)\n",
    "    wr.writerow(['title', 'writer', 'price'])\n",
    "\n",
    "    for i in range(len(titles)):\n",
    "        wr.writerow([titles[i], writers[i], prices[i]])"
   ]
  },
  {
   "cell_type": "code",
   "execution_count": 67,
   "id": "52616911-5f32-417c-b273-1f001211b2c5",
   "metadata": {},
   "outputs": [],
   "source": [
    "# newbooks.json로 저장\n",
    "# {\"response\":{\"body\":{\"items\":[{\"?\":\"?\",\"?\":?,\"?\":\"?\"}, {}, ...] } } }\n",
    "newbooks = OrderedDict()\n",
    "items = OrderedDict()\n",
    "body = OrderedDict()\n",
    "books = []\n",
    "\n",
    "for i in range(len(titles)):\n",
    "    book = OrderedDict()\n",
    "    book['title'] = titles[i]\n",
    "    book['writer'] = writers[i]\n",
    "    book['price'] = prices[i]\n",
    "    books.append(book)\n",
    "\n",
    "items['items'] = books\n",
    "body['body'] = items\n",
    "newbooks['response'] = body"
   ]
  },
  {
   "cell_type": "code",
   "execution_count": 71,
   "id": "4be2bb0e-3b74-41e8-b385-d126ca8029ec",
   "metadata": {},
   "outputs": [],
   "source": [
    "with open('./data/newbooks.json', 'w', encoding='utf-8', newline='') as f:\n",
    "       json.dump(newbooks, f, ensure_ascii=False)"
   ]
  },
  {
   "cell_type": "markdown",
   "id": "6c3e1005-49a7-4226-bcde-2e7de4667e14",
   "metadata": {},
   "source": [
    "#### 리스트에 저장한 내용을 디비에 저장"
   ]
  },
  {
   "cell_type": "code",
   "execution_count": null,
   "id": "cc5c8eed-1072-4499-8a6a-9cf8f766e7d6",
   "metadata": {},
   "outputs": [],
   "source": [
    "# newbooks 테이블 구조 : 도서번호, 도서명, 저자, 가격, 등록일\n",
    "# create table newbooks (\n",
    "#   bno       int            auto_increment,\n",
    "#   title     varchar(100)   not null,\n",
    "#   writer    varchar(100)   not null,\n",
    "#   price     int            not null,\n",
    "#   regdate   datetime       default current_timestamp,\n",
    "#   primary key (bno)\n",
    "# );"
   ]
  },
  {
   "cell_type": "code",
   "execution_count": 78,
   "id": "3fc9e96c-3078-4842-8a91-475bf88ef772",
   "metadata": {},
   "outputs": [],
   "source": [
    "import mariadb"
   ]
  },
  {
   "cell_type": "code",
   "execution_count": 79,
   "id": "59980bba-a5a3-46fd-bfab-3cbc7f0bfeaa",
   "metadata": {},
   "outputs": [],
   "source": [
    "# mariadb 접속 정보\n",
    "url = 'bigdata.cto1qluvf6xh.ap-northeast-2.rds.amazonaws.com'\n",
    "uid = 'admin'\n",
    "pwd = 'Bigdata_2023'\n",
    "db = 'bigdata'"
   ]
  },
  {
   "cell_type": "code",
   "execution_count": 80,
   "id": "e4b970b8-875e-40dd-a3bd-27504f736c32",
   "metadata": {
    "collapsed": true,
    "jupyter": {
     "outputs_hidden": true
    }
   },
   "outputs": [
    {
     "name": "stdout",
     "output_type": "stream",
     "text": [
      "0번째 데이터 입력됨!\n",
      "1번째 데이터 입력됨!\n",
      "2번째 데이터 입력됨!\n",
      "3번째 데이터 입력됨!\n",
      "4번째 데이터 입력됨!\n",
      "5번째 데이터 입력됨!\n",
      "6번째 데이터 입력됨!\n",
      "7번째 데이터 입력됨!\n",
      "8번째 데이터 입력됨!\n",
      "9번째 데이터 입력됨!\n",
      "10번째 데이터 입력됨!\n",
      "11번째 데이터 입력됨!\n",
      "12번째 데이터 입력됨!\n",
      "13번째 데이터 입력됨!\n",
      "14번째 데이터 입력됨!\n",
      "15번째 데이터 입력됨!\n",
      "16번째 데이터 입력됨!\n",
      "17번째 데이터 입력됨!\n",
      "18번째 데이터 입력됨!\n",
      "19번째 데이터 입력됨!\n"
     ]
    }
   ],
   "source": [
    "sql = 'insert into newbooks (title, writer, price) values (?,?,?)'\n",
    "conn = None\n",
    "cur = None\n",
    "\n",
    "try:\n",
    "    conn = mariadb.connect(host=url, user=uid, password=pwd, database=db)\n",
    "    cur = conn.cursor()\n",
    "\n",
    "    for i in range(len(titles)):\n",
    "        params = (titles[i], writers[i], prices[i])\n",
    "        cur.execute(sql, params)\n",
    "        conn.commit()\n",
    "        print(f'{i}번째 데이터 입력됨!')\n",
    "\n",
    "except mariadb.Error as e:\n",
    "    print('오류발생!!', e)\n",
    "finally:\n",
    "    cur.close()\n",
    "    conn.close()"
   ]
  }
 ],
 "metadata": {
  "kernelspec": {
   "display_name": "Python 3 (ipykernel)",
   "language": "python",
   "name": "python3"
  },
  "language_info": {
   "codemirror_mode": {
    "name": "ipython",
    "version": 3
   },
   "file_extension": ".py",
   "mimetype": "text/x-python",
   "name": "python",
   "nbconvert_exporter": "python",
   "pygments_lexer": "ipython3",
   "version": "3.11.4"
  }
 },
 "nbformat": 4,
 "nbformat_minor": 5
}
