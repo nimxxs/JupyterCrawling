{
 "cells": [
  {
   "cell_type": "markdown",
   "id": "89c1e6d2-4f86-4eba-8078-59c6335e4fd9",
   "metadata": {},
   "source": [
    "## 아파트 단지 정보에서 주차장 정보 추출\n",
    " + 관련 사이트 : k-apt.go.kr\n",
    " + 메인페이지 팝업창 닫기 => '단지정보' 클릭\n",
    " + => 2023.07, 서울, 강남구, 삼성동, 아이파크삼성동 클릭"
   ]
  },
  {
   "cell_type": "markdown",
   "id": "e6c2b771-4d5a-4790-9a91-9ebf1b4d2300",
   "metadata": {},
   "source": [
    "### k-apt.go.kr 분석"
   ]
  },
  {
   "cell_type": "markdown",
   "id": "ab0d4173-8f38-4332-8964-8dafbc9e94c6",
   "metadata": {},
   "source": [
    "#### 메인페이지\n",
    "* getHoliday.jsp : 1987 ~ 현재까지 공휴일 데이터\n",
    "* getBjdList.do : 지역 정보 (시도 - 코드)"
   ]
  },
  {
   "cell_type": "markdown",
   "id": "ef7b84d3-31a2-48ac-a00f-297c1d77f6ab",
   "metadata": {},
   "source": [
    "#### 우리단지 검색\n",
    "* getBjdList.do : 시도구군동 설정시 fetch 함수로 `지역 정보 코드` 불러옴\n",
    "    + 경로 예시 : http://www.k-apt.go.kr/cmmn/bjd/getBjdList.do?bjd_gbn=SIDO (광역시도출력)\n",
    "    + 경로 예시 : http://www.k-apt.go.kr/cmmn/bjd/getBjdList.do?bjd_code=11&bjd_gbn=SGG (서울특별시 선택시 시군구 출력)\n",
    "    + 경로 예시 : https://www.k-apt.go.kr/cmmn/bjd/getBjdList.do?bjd_code=11680&bjd_gbn=EMD (서울특별시 강남구 선택시 읍면동 출력)\n",
    "    + 서울특별시 강남구 삼성동 선택시 bjd_code, search_date 변수를 생성한 후 getKaptList.do 호출\n",
    "* getKaptList.do : 시도구군동 코드와 검색일을 설정하면 `해당 지역의 아파트들 정보` 출력\n",
    "    + 경로 예시 : http://www.k-apt.go.kr/kaptinfo/getKaptList.do?bjd_code=11680105&search_date:202305\n",
    "* /getKaptInfo_poi.d : 시도구군동 코드와 검색일을 설정하면 `해당 지역의 아파트들 단순 정보` 출력\n",
    "    + 경로 예시 : \n",
    "http://www.k-apt.go.kr/kaptinfo/getKaptInfo_poi.d?bjd_code=11680105&search_date:202305oo"
   ]
  },
  {
   "cell_type": "markdown",
   "id": "ac904899-03fb-4059-806b-4cea783d0fc4",
   "metadata": {},
   "source": [
    "#### 관리시설정보\n",
    "* getKaptInfo_detail.do : 아파트 코드 입력시 관리시설정보 출력\n",
    "    + http://www.k-apt.go.kr/kaptinfo/getKaptInfo_detail.do?kapt_code=A13509009"
   ]
  },
  {
   "cell_type": "code",
   "execution_count": null,
   "id": "79bffa75-271a-446c-a6fb-4bada0899200",
   "metadata": {},
   "outputs": [],
   "source": [
    "import time\n",
    "\n",
    "from selenium import webdriver\n",
    "from selenium.webdriver.chrome.service import Service\n",
    "from selenium.webdriver.support.select import Select\n",
    "from webdriver_manager.chrome import ChromeDriverManager\n",
    "from selenium.webdriver.common.by import By\n",
    "from selenium.webdriver.common.keys import Keys"
   ]
  },
  {
   "cell_type": "code",
   "execution_count": null,
   "id": "c1adf1a9-6275-4cbf-9e16-decae007bac9",
   "metadata": {},
   "outputs": [],
   "source": []
  }
 ],
 "metadata": {
  "kernelspec": {
   "display_name": "Python 3 (ipykernel)",
   "language": "python",
   "name": "python3"
  },
  "language_info": {
   "codemirror_mode": {
    "name": "ipython",
    "version": 3
   },
   "file_extension": ".py",
   "mimetype": "text/x-python",
   "name": "python",
   "nbconvert_exporter": "python",
   "pygments_lexer": "ipython3",
   "version": "3.11.4"
  }
 },
 "nbformat": 4,
 "nbformat_minor": 5
}
